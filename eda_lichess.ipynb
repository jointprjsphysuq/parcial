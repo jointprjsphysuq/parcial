{
 "cells": [
  {
   "cell_type": "markdown",
   "metadata": {},
   "source": [
    "# Exploratory Data Analysis: Lichess database\n",
    "\n",
    "This jupyter notebook contains an exploratory data analysis done over a chess database with information from 200k games. Each game (the rows of the data frame) contains categorical variates, such as the type of opening (ECO), and numerical variates, such as the elo of each player.\n",
    "\n",
    "The main objective of this EDA was to determine the statistical relations between many of the variates in order to establish whether the dataset is suitable for machine learning (ML) or not. Furthermore, the size of the dataset permitted the execution of more precise hypothesis testing meaning that, overall, many of the tests resulted in p-values below the established threshold. In that sense, data visualization techniques provided greater insight to determine if the statistical significance predicted by the tests was relevant.\n",
    "\n",
    "### Remarks\n",
    "\n",
    "1. In general, the notebook has the following structure: markdown cell --> code cells.\n",
    "\n",
    "2. Each code cell includes hashed text explaining briefly what the code is supposed to be doing. Additional commentary is contained in the markdown cells.\n",
    "\n",
    "3. All the required libraries are included in the first code cell, namely the preamble of the notebook. Exceptions include particular ```scipy``` submodules used for miscellaneous statistics calculations.\n",
    "\n",
    "4. **All the graphs** contained in this notebook are saved in the ```graphs``` directory.\n",
    "\n",
    "5. The dataset is available in the github repository as ```modified_dataset```."
   ]
  },
  {
   "cell_type": "code",
   "execution_count": 1,
   "metadata": {},
   "outputs": [],
   "source": [
    "# Preamble\n",
    "import numpy as np\n",
    "import matplotlib.pyplot as plt\n",
    "import seaborn as sns\n",
    "import pandas as pd"
   ]
  },
  {
   "cell_type": "code",
   "execution_count": 2,
   "metadata": {},
   "outputs": [
    {
     "data": {
      "text/html": [
       "<div>\n",
       "<style scoped>\n",
       "    .dataframe tbody tr th:only-of-type {\n",
       "        vertical-align: middle;\n",
       "    }\n",
       "\n",
       "    .dataframe tbody tr th {\n",
       "        vertical-align: top;\n",
       "    }\n",
       "\n",
       "    .dataframe thead th {\n",
       "        text-align: right;\n",
       "    }\n",
       "</style>\n",
       "<table border=\"1\" class=\"dataframe\">\n",
       "  <thead>\n",
       "    <tr style=\"text-align: right;\">\n",
       "      <th></th>\n",
       "      <th>BlackElo</th>\n",
       "      <th>BlackRatingDiff</th>\n",
       "      <th>Date</th>\n",
       "      <th>ECO</th>\n",
       "      <th>Result</th>\n",
       "      <th>Termination</th>\n",
       "      <th>UTCTime</th>\n",
       "      <th>WhiteElo</th>\n",
       "      <th>WhiteRatingDiff</th>\n",
       "      <th>BlackTitle</th>\n",
       "      <th>WhiteTitle</th>\n",
       "      <th>Category</th>\n",
       "      <th>Weekday</th>\n",
       "      <th>Movements</th>\n",
       "    </tr>\n",
       "  </thead>\n",
       "  <tbody>\n",
       "    <tr>\n",
       "      <th>0</th>\n",
       "      <td>906</td>\n",
       "      <td>13.0</td>\n",
       "      <td>2019.04.30</td>\n",
       "      <td>B15</td>\n",
       "      <td>0-1</td>\n",
       "      <td>Normal</td>\n",
       "      <td>22:00:24</td>\n",
       "      <td>971</td>\n",
       "      <td>-12.0</td>\n",
       "      <td>NaN</td>\n",
       "      <td>NaN</td>\n",
       "      <td>Blitz</td>\n",
       "      <td>Tuesday</td>\n",
       "      <td>73</td>\n",
       "    </tr>\n",
       "    <tr>\n",
       "      <th>1</th>\n",
       "      <td>1296</td>\n",
       "      <td>28.0</td>\n",
       "      <td>2019.04.30</td>\n",
       "      <td>C50</td>\n",
       "      <td>0-1</td>\n",
       "      <td>Normal</td>\n",
       "      <td>22:00:13</td>\n",
       "      <td>1312</td>\n",
       "      <td>-10.0</td>\n",
       "      <td>NaN</td>\n",
       "      <td>NaN</td>\n",
       "      <td>Blitz</td>\n",
       "      <td>Tuesday</td>\n",
       "      <td>67</td>\n",
       "    </tr>\n",
       "    <tr>\n",
       "      <th>2</th>\n",
       "      <td>1761</td>\n",
       "      <td>-13.0</td>\n",
       "      <td>2019.04.30</td>\n",
       "      <td>C41</td>\n",
       "      <td>1-0</td>\n",
       "      <td>Normal</td>\n",
       "      <td>22:00:41</td>\n",
       "      <td>1653</td>\n",
       "      <td>27.0</td>\n",
       "      <td>NaN</td>\n",
       "      <td>NaN</td>\n",
       "      <td>Rapid</td>\n",
       "      <td>Tuesday</td>\n",
       "      <td>71</td>\n",
       "    </tr>\n",
       "    <tr>\n",
       "      <th>3</th>\n",
       "      <td>2404</td>\n",
       "      <td>8.0</td>\n",
       "      <td>2019.04.30</td>\n",
       "      <td>B06</td>\n",
       "      <td>0-1</td>\n",
       "      <td>Normal</td>\n",
       "      <td>22:00:43</td>\n",
       "      <td>2324</td>\n",
       "      <td>-8.0</td>\n",
       "      <td>NaN</td>\n",
       "      <td>FM</td>\n",
       "      <td>Bullet</td>\n",
       "      <td>Tuesday</td>\n",
       "      <td>85</td>\n",
       "    </tr>\n",
       "    <tr>\n",
       "      <th>4</th>\n",
       "      <td>1595</td>\n",
       "      <td>-10.0</td>\n",
       "      <td>2019.04.30</td>\n",
       "      <td>B32</td>\n",
       "      <td>1-0</td>\n",
       "      <td>Normal</td>\n",
       "      <td>22:00:46</td>\n",
       "      <td>1614</td>\n",
       "      <td>29.0</td>\n",
       "      <td>NaN</td>\n",
       "      <td>NaN</td>\n",
       "      <td>Blitz</td>\n",
       "      <td>Tuesday</td>\n",
       "      <td>71</td>\n",
       "    </tr>\n",
       "    <tr>\n",
       "      <th>...</th>\n",
       "      <td>...</td>\n",
       "      <td>...</td>\n",
       "      <td>...</td>\n",
       "      <td>...</td>\n",
       "      <td>...</td>\n",
       "      <td>...</td>\n",
       "      <td>...</td>\n",
       "      <td>...</td>\n",
       "      <td>...</td>\n",
       "      <td>...</td>\n",
       "      <td>...</td>\n",
       "      <td>...</td>\n",
       "      <td>...</td>\n",
       "      <td>...</td>\n",
       "    </tr>\n",
       "    <tr>\n",
       "      <th>199995</th>\n",
       "      <td>1491</td>\n",
       "      <td>10.0</td>\n",
       "      <td>2019.05.22</td>\n",
       "      <td>B00</td>\n",
       "      <td>0-1</td>\n",
       "      <td>Normal</td>\n",
       "      <td>21:17:00</td>\n",
       "      <td>1456</td>\n",
       "      <td>-9.0</td>\n",
       "      <td>NaN</td>\n",
       "      <td>NaN</td>\n",
       "      <td>Rapid</td>\n",
       "      <td>Wednesday</td>\n",
       "      <td>30</td>\n",
       "    </tr>\n",
       "    <tr>\n",
       "      <th>199996</th>\n",
       "      <td>1549</td>\n",
       "      <td>-10.0</td>\n",
       "      <td>2019.05.22</td>\n",
       "      <td>C21</td>\n",
       "      <td>1-0</td>\n",
       "      <td>Time forfeit</td>\n",
       "      <td>21:17:09</td>\n",
       "      <td>1575</td>\n",
       "      <td>25.0</td>\n",
       "      <td>NaN</td>\n",
       "      <td>NaN</td>\n",
       "      <td>Classical</td>\n",
       "      <td>Wednesday</td>\n",
       "      <td>59</td>\n",
       "    </tr>\n",
       "    <tr>\n",
       "      <th>199997</th>\n",
       "      <td>1450</td>\n",
       "      <td>-11.0</td>\n",
       "      <td>2019.05.22</td>\n",
       "      <td>D20</td>\n",
       "      <td>1-0</td>\n",
       "      <td>Normal</td>\n",
       "      <td>21:17:09</td>\n",
       "      <td>1439</td>\n",
       "      <td>11.0</td>\n",
       "      <td>NaN</td>\n",
       "      <td>NaN</td>\n",
       "      <td>Blitz</td>\n",
       "      <td>Wednesday</td>\n",
       "      <td>42</td>\n",
       "    </tr>\n",
       "    <tr>\n",
       "      <th>199998</th>\n",
       "      <td>1588</td>\n",
       "      <td>40.0</td>\n",
       "      <td>2019.05.22</td>\n",
       "      <td>B07</td>\n",
       "      <td>0-1</td>\n",
       "      <td>Normal</td>\n",
       "      <td>21:17:13</td>\n",
       "      <td>1753</td>\n",
       "      <td>-18.0</td>\n",
       "      <td>NaN</td>\n",
       "      <td>NaN</td>\n",
       "      <td>Bullet</td>\n",
       "      <td>Wednesday</td>\n",
       "      <td>45</td>\n",
       "    </tr>\n",
       "    <tr>\n",
       "      <th>199999</th>\n",
       "      <td>1184</td>\n",
       "      <td>8.0</td>\n",
       "      <td>2019.05.22</td>\n",
       "      <td>A40</td>\n",
       "      <td>0-1</td>\n",
       "      <td>Normal</td>\n",
       "      <td>21:17:19</td>\n",
       "      <td>1097</td>\n",
       "      <td>-8.0</td>\n",
       "      <td>NaN</td>\n",
       "      <td>NaN</td>\n",
       "      <td>Blitz</td>\n",
       "      <td>Wednesday</td>\n",
       "      <td>95</td>\n",
       "    </tr>\n",
       "  </tbody>\n",
       "</table>\n",
       "<p>200000 rows × 14 columns</p>\n",
       "</div>"
      ],
      "text/plain": [
       "        BlackElo  BlackRatingDiff        Date  ECO Result   Termination  \\\n",
       "0            906             13.0  2019.04.30  B15    0-1        Normal   \n",
       "1           1296             28.0  2019.04.30  C50    0-1        Normal   \n",
       "2           1761            -13.0  2019.04.30  C41    1-0        Normal   \n",
       "3           2404              8.0  2019.04.30  B06    0-1        Normal   \n",
       "4           1595            -10.0  2019.04.30  B32    1-0        Normal   \n",
       "...          ...              ...         ...  ...    ...           ...   \n",
       "199995      1491             10.0  2019.05.22  B00    0-1        Normal   \n",
       "199996      1549            -10.0  2019.05.22  C21    1-0  Time forfeit   \n",
       "199997      1450            -11.0  2019.05.22  D20    1-0        Normal   \n",
       "199998      1588             40.0  2019.05.22  B07    0-1        Normal   \n",
       "199999      1184              8.0  2019.05.22  A40    0-1        Normal   \n",
       "\n",
       "         UTCTime  WhiteElo  WhiteRatingDiff BlackTitle WhiteTitle   Category  \\\n",
       "0       22:00:24       971            -12.0        NaN        NaN      Blitz   \n",
       "1       22:00:13      1312            -10.0        NaN        NaN      Blitz   \n",
       "2       22:00:41      1653             27.0        NaN        NaN      Rapid   \n",
       "3       22:00:43      2324             -8.0        NaN         FM     Bullet   \n",
       "4       22:00:46      1614             29.0        NaN        NaN      Blitz   \n",
       "...          ...       ...              ...        ...        ...        ...   \n",
       "199995  21:17:00      1456             -9.0        NaN        NaN      Rapid   \n",
       "199996  21:17:09      1575             25.0        NaN        NaN  Classical   \n",
       "199997  21:17:09      1439             11.0        NaN        NaN      Blitz   \n",
       "199998  21:17:13      1753            -18.0        NaN        NaN     Bullet   \n",
       "199999  21:17:19      1097             -8.0        NaN        NaN      Blitz   \n",
       "\n",
       "          Weekday  Movements  \n",
       "0         Tuesday         73  \n",
       "1         Tuesday         67  \n",
       "2         Tuesday         71  \n",
       "3         Tuesday         85  \n",
       "4         Tuesday         71  \n",
       "...           ...        ...  \n",
       "199995  Wednesday         30  \n",
       "199996  Wednesday         59  \n",
       "199997  Wednesday         42  \n",
       "199998  Wednesday         45  \n",
       "199999  Wednesday         95  \n",
       "\n",
       "[200000 rows x 14 columns]"
      ]
     },
     "execution_count": 2,
     "metadata": {},
     "output_type": "execute_result"
    }
   ],
   "source": [
    "# Loading dataset\n",
    "games_df = pd.read_csv('modified_dataset', delimiter = ',')\n",
    "games_df.drop('index', inplace = True, axis = 1)\n",
    "games_df"
   ]
  },
  {
   "cell_type": "code",
   "execution_count": 3,
   "metadata": {},
   "outputs": [
    {
     "name": "stdout",
     "output_type": "stream",
     "text": [
      "<class 'pandas.core.frame.DataFrame'>\n",
      "RangeIndex: 200000 entries, 0 to 199999\n",
      "Data columns (total 14 columns):\n",
      " #   Column           Non-Null Count   Dtype  \n",
      "---  ------           --------------   -----  \n",
      " 0   BlackElo         200000 non-null  int64  \n",
      " 1   BlackRatingDiff  199491 non-null  float64\n",
      " 2   Date             200000 non-null  object \n",
      " 3   ECO              200000 non-null  object \n",
      " 4   Result           200000 non-null  object \n",
      " 5   Termination      200000 non-null  object \n",
      " 6   UTCTime          200000 non-null  object \n",
      " 7   WhiteElo         200000 non-null  int64  \n",
      " 8   WhiteRatingDiff  199491 non-null  float64\n",
      " 9   BlackTitle       810 non-null     object \n",
      " 10  WhiteTitle       784 non-null     object \n",
      " 11  Category         200000 non-null  object \n",
      " 12  Weekday          200000 non-null  object \n",
      " 13  Movements        200000 non-null  int64  \n",
      "dtypes: float64(2), int64(3), object(9)\n",
      "memory usage: 21.4+ MB\n"
     ]
    }
   ],
   "source": [
    "games_df.info()"
   ]
  },
  {
   "cell_type": "markdown",
   "metadata": {},
   "source": [
    "## Goodness of fit test for Elo distribution\n",
    "\n",
    "$H_0$: Average Elo data is beta distributed.\n",
    "\n",
    "$H_1$: Average Elo data deviaties from a beta distribution."
   ]
  },
  {
   "cell_type": "code",
   "execution_count": 4,
   "metadata": {},
   "outputs": [
    {
     "name": "stdout",
     "output_type": "stream",
     "text": [
      "Mean value: 1512.8960999984415\n",
      "Variance: 99469.50022508747\n",
      "Skewness: 0.2700760033678143\n",
      "Kurtosis: -0.2699337157756927\n"
     ]
    }
   ],
   "source": [
    "from scipy import stats\n",
    "from functools import partial\n",
    "from sklearn.utils import resample\n",
    "\n",
    "avg_elo = (games_df['WhiteElo'] + games_df['BlackElo'])/2 # Calculates average elo of each game\n",
    "data = avg_elo\n",
    "re_data = resample(data, replace = True, n_samples = 7500, random_state = 23490) # Resampling\n",
    "beta_param_bounds = [(4,5),(7,9),(600, 700),(2400,2500)] # Prepares bounds for the a, b, loc, and scale parameters of the beta fit.\n",
    "fit_result = stats.fit(stats.beta, re_data, beta_param_bounds) # Gives results of the fit\n",
    "a, b, loc, scale = fit_result.params \n",
    "beta_fit = stats.beta(a, b, loc, scale) # Distribution that fits the data best\n",
    "m, v , s, k = beta_fit.stats(moments = 'mvsk')\n",
    "print('Mean value: {}'.format(m))\n",
    "print('Variance: {}'.format(v))\n",
    "print('Skewness: {}'.format(s))\n",
    "print('Kurtosis: {}'.format(k))"
   ]
  },
  {
   "cell_type": "code",
   "execution_count": 5,
   "metadata": {},
   "outputs": [
    {
     "name": "stdout",
     "output_type": "stream",
     "text": [
      "Maximum function difference (KS test statistic) = 0.012129374339467314\n",
      "p value = 0.2180409140715407\n",
      "The null hypothesis is not rejected.\n"
     ]
    }
   ],
   "source": [
    "# Kolmogorov - Smirnov test\n",
    "D_stat, p_value = stats.kstest(re_data, partial(stats.beta.cdf, a = a, b = b, loc = loc, scale = scale))\n",
    "print('Maximum function difference (KS test statistic) = {}'.format(D_stat))\n",
    "print('p value = {}'.format(p_value))\n",
    "alpha = 0.05\n",
    "if p_value < alpha:\n",
    "    print('The null hypothesis is rejected.')\n",
    "else:\n",
    "    print('The null hypothesis is not rejected.')"
   ]
  },
  {
   "cell_type": "code",
   "execution_count": 6,
   "metadata": {},
   "outputs": [
    {
     "data": {
      "image/png": "[encoded data removed]",
      "text/plain": [
       "<Figure size 864x216 with 2 Axes>"
      ]
     },
     "metadata": {
      "needs_background": "light"
     },
     "output_type": "display_data"
    }
   ],
   "source": [
    "fig, axes = plt.subplots(1, 2, figsize = (12, 3)) # Definition of graphing instances\n",
    "\n",
    "x = np.linspace(0, 3000, 10000) # Graphing range\n",
    "\n",
    "pdf = beta_fit.pdf(x) # Probability density function\n",
    "cdf = beta_fit.cdf(x) # Cumulative distribution function\n",
    "\n",
    "axes[0].plot(x, pdf, color = 'r', label = 'Fit') # Graphs PDF\n",
    "sns.histplot(re_data, ax = axes[0], stat = 'density',binwidth = 50, label = 'Data') # Graphs histogram of data\n",
    "\n",
    "N = 7500 # Number of games\n",
    "sorted_data = np.sort(re_data) # Ordered data\n",
    "edf = np.arange(N) / float(N) # 'Experimental' cumulative distribution function\n",
    "\n",
    "axes[1].plot(x, cdf, color = 'r', label = 'CDF') # Graphs CDF\n",
    "axes[1].plot(sorted_data, edf, label = 'EDF') # Graphs EDF\n",
    "\n",
    "for ax in axes.flat:\n",
    "    ax.set(xlabel = 'Average Elo')\n",
    "\n",
    "axes[1].set(ylabel = 'Cumulative probability')\n",
    "plt.legend()\n",
    "plt.savefig('graphs/kstest-avg_elo.pdf', dpi = 700, bbox_inches = 'tight')"
   ]
  },
  {
   "cell_type": "code",
   "execution_count": 7,
   "metadata": {},
   "outputs": [
    {
     "data": {
      "image/png": "[encoded data removed]",
      "text/plain": [
       "<Figure size 432x288 with 1 Axes>"
      ]
     },
     "metadata": {
      "needs_background": "light"
     },
     "output_type": "display_data"
    }
   ],
   "source": [
    "# q-q graph\n",
    "qq_fig = plt.figure()\n",
    "ax = qq_fig.add_subplot(111)\n",
    "stats.probplot(re_data, dist=beta_fit, plot=ax)\n",
    "ax.set_xlabel('Average Elo')\n",
    "ax.set_title('QQ - Beta Distribution and Data')\n",
    "plt.savefig('graphs/qq_avg_elo.pdf', bbox_inches = 'tight')"
   ]
  },
  {
   "cell_type": "markdown",
   "metadata": {},
   "source": [
    "## Goodness of fit test for Elo distribution (Categorical)\n",
    "\n",
    "As a continuation of the previous test, a $\\chi^2$-GOF test is performed over a categorical division of elo, namely: low elo, mid elo, high elo, and very high elo. The fitted distribution is numerically integrated over the required intervals in order to obtain the expected frequencies.\n",
    "\n",
    "### Intervals\n",
    "\n",
    "- Low elo if $elo \\leq 1400$\n",
    "- Mid elo if $1400 < elo \\leq 1800$\n",
    "- High elo if $1800 < elo \\leq 2000$\n",
    "- Very high elo if $2000 < elo$"
   ]
  },
  {
   "cell_type": "code",
   "execution_count": 8,
   "metadata": {},
   "outputs": [
    {
     "data": {
      "text/html": [
       "<div>\n",
       "<style scoped>\n",
       "    .dataframe tbody tr th:only-of-type {\n",
       "        vertical-align: middle;\n",
       "    }\n",
       "\n",
       "    .dataframe tbody tr th {\n",
       "        vertical-align: top;\n",
       "    }\n",
       "\n",
       "    .dataframe thead th {\n",
       "        text-align: right;\n",
       "    }\n",
       "</style>\n",
       "<table border=\"1\" class=\"dataframe\">\n",
       "  <thead>\n",
       "    <tr style=\"text-align: right;\">\n",
       "      <th></th>\n",
       "      <th>AverageElo</th>\n",
       "      <th>EloTier</th>\n",
       "    </tr>\n",
       "  </thead>\n",
       "  <tbody>\n",
       "    <tr>\n",
       "      <th>0</th>\n",
       "      <td>1671.5</td>\n",
       "      <td>Mid elo</td>\n",
       "    </tr>\n",
       "    <tr>\n",
       "      <th>1</th>\n",
       "      <td>1909.0</td>\n",
       "      <td>High elo</td>\n",
       "    </tr>\n",
       "    <tr>\n",
       "      <th>2</th>\n",
       "      <td>1695.5</td>\n",
       "      <td>Mid elo</td>\n",
       "    </tr>\n",
       "    <tr>\n",
       "      <th>3</th>\n",
       "      <td>1202.5</td>\n",
       "      <td>Low elo</td>\n",
       "    </tr>\n",
       "    <tr>\n",
       "      <th>4</th>\n",
       "      <td>1420.0</td>\n",
       "      <td>Mid elo</td>\n",
       "    </tr>\n",
       "    <tr>\n",
       "      <th>...</th>\n",
       "      <td>...</td>\n",
       "      <td>...</td>\n",
       "    </tr>\n",
       "    <tr>\n",
       "      <th>7495</th>\n",
       "      <td>1647.0</td>\n",
       "      <td>Mid elo</td>\n",
       "    </tr>\n",
       "    <tr>\n",
       "      <th>7496</th>\n",
       "      <td>1807.5</td>\n",
       "      <td>High elo</td>\n",
       "    </tr>\n",
       "    <tr>\n",
       "      <th>7497</th>\n",
       "      <td>1117.5</td>\n",
       "      <td>Low elo</td>\n",
       "    </tr>\n",
       "    <tr>\n",
       "      <th>7498</th>\n",
       "      <td>1841.5</td>\n",
       "      <td>High elo</td>\n",
       "    </tr>\n",
       "    <tr>\n",
       "      <th>7499</th>\n",
       "      <td>2040.5</td>\n",
       "      <td>Very high elo</td>\n",
       "    </tr>\n",
       "  </tbody>\n",
       "</table>\n",
       "<p>7500 rows × 2 columns</p>\n",
       "</div>"
      ],
      "text/plain": [
       "      AverageElo        EloTier\n",
       "0         1671.5        Mid elo\n",
       "1         1909.0       High elo\n",
       "2         1695.5        Mid elo\n",
       "3         1202.5        Low elo\n",
       "4         1420.0        Mid elo\n",
       "...          ...            ...\n",
       "7495      1647.0        Mid elo\n",
       "7496      1807.5       High elo\n",
       "7497      1117.5        Low elo\n",
       "7498      1841.5       High elo\n",
       "7499      2040.5  Very high elo\n",
       "\n",
       "[7500 rows x 2 columns]"
      ]
     },
     "execution_count": 8,
     "metadata": {},
     "output_type": "execute_result"
    }
   ],
   "source": [
    "# Elo dataframe (categorical)\n",
    "elo = pd.DataFrame(avg_elo, columns = ['AverageElo'])\n",
    "elo['EloTier'] = ['Very high elo' if elo >= 2000 else 'High elo' if elo >= 1800 else \\\n",
    "    'Mid elo' if elo >= 1400 else 'Low elo' for elo in avg_elo]\n",
    "re_elo = resample(elo, replace = True, n_samples = 7500, random_state = 23490)\n",
    "re_elo = re_elo.reset_index(drop = True)\n",
    "re_elo"
   ]
  },
  {
   "cell_type": "code",
   "execution_count": 9,
   "metadata": {},
   "outputs": [
    {
     "name": "stdout",
     "output_type": "stream",
     "text": [
      "chi statistic = 0.0012426889183584395\n",
      "p value = 0.9999883533629124\n",
      "The null hypothesis is not rejected.\n"
     ]
    }
   ],
   "source": [
    "import scipy.integrate as integrate\n",
    "\n",
    "# Integration\n",
    "intervals = [(-np.inf, 1400), (1400, 1800), (1800, 2000), (2000, np.inf)]\n",
    "probabilities_exp = []\n",
    "for i in intervals:\n",
    "    probabilities_exp.append(integrate.quad(lambda x: beta_fit.pdf(x), i[0], i[1])[0])\n",
    "\n",
    "# Counts\n",
    "observed = re_elo['EloTier'].value_counts(normalize = True)\n",
    "probabilities_obs = [observed['Low elo'], observed['Mid elo'], observed['High elo'], observed['Very high elo']]\n",
    "\n",
    "# chi-squared test\n",
    "chi_stat, p_value = stats.chisquare(probabilities_obs, probabilities_exp)\n",
    "print('chi statistic = {}'.format(chi_stat))\n",
    "print('p value = {}'.format(p_value))\n",
    "alpha = 0.05\n",
    "if p_value < alpha:\n",
    "    print('The null hypothesis is rejected.')\n",
    "else:\n",
    "    print('The null hypothesis is not rejected.')"
   ]
  },
  {
   "cell_type": "markdown",
   "metadata": {},
   "source": [
    "## ANOVA test: Number of moves and opening\n",
    "\n",
    "Each game is grouped in one of five categories according to the first letter of ECO.\n",
    "\n",
    "$H_0$: The mean number of moves for each of the groups is the same.\n",
    "\n",
    "$H_1$: At least one group has a different mean number of moves."
   ]
  },
  {
   "cell_type": "code",
   "execution_count": 10,
   "metadata": {},
   "outputs": [
    {
     "data": {
      "image/png": "[encoded data removed]",
      "text/plain": [
       "<Figure size 432x288 with 1 Axes>"
      ]
     },
     "metadata": {
      "needs_background": "light"
     },
     "output_type": "display_data"
    }
   ],
   "source": [
    "# Creating group dataframe and checking for imbalance\n",
    "group = pd.DataFrame(games_df['ECO'].str[0])\n",
    "group['Movements'] = games_df['Movements']\n",
    "group['ECO'].value_counts(normalize = True).plot.bar(color = ['#F0FF42', '#82CD47', '#54B435', '#379237', '#379237'])\n",
    "group.value_counts()\n",
    "plt.title(r'ECO: Frequency distribution')\n",
    "plt.ylabel('Frequency')\n",
    "plt.xlabel('ECO group')\n",
    "plt.savefig('graphs/Frequency_ECO.pdf', bbox_inches = 'tight')"
   ]
  },
  {
   "cell_type": "markdown",
   "metadata": {},
   "source": [
    "As can be seen from the counts histogram above, the data is imbalanced. In order to correct this, the groups will be downsampled to 1500 observations each."
   ]
  },
  {
   "cell_type": "code",
   "execution_count": 11,
   "metadata": {},
   "outputs": [
    {
     "data": {
      "text/html": [
       "<div>\n",
       "<style scoped>\n",
       "    .dataframe tbody tr th:only-of-type {\n",
       "        vertical-align: middle;\n",
       "    }\n",
       "\n",
       "    .dataframe tbody tr th {\n",
       "        vertical-align: top;\n",
       "    }\n",
       "\n",
       "    .dataframe thead th {\n",
       "        text-align: right;\n",
       "    }\n",
       "</style>\n",
       "<table border=\"1\" class=\"dataframe\">\n",
       "  <thead>\n",
       "    <tr style=\"text-align: right;\">\n",
       "      <th></th>\n",
       "      <th>ECO</th>\n",
       "      <th>Movements</th>\n",
       "    </tr>\n",
       "  </thead>\n",
       "  <tbody>\n",
       "    <tr>\n",
       "      <th>0</th>\n",
       "      <td>A</td>\n",
       "      <td>62</td>\n",
       "    </tr>\n",
       "    <tr>\n",
       "      <th>1</th>\n",
       "      <td>A</td>\n",
       "      <td>65</td>\n",
       "    </tr>\n",
       "    <tr>\n",
       "      <th>2</th>\n",
       "      <td>A</td>\n",
       "      <td>48</td>\n",
       "    </tr>\n",
       "    <tr>\n",
       "      <th>3</th>\n",
       "      <td>A</td>\n",
       "      <td>43</td>\n",
       "    </tr>\n",
       "    <tr>\n",
       "      <th>4</th>\n",
       "      <td>A</td>\n",
       "      <td>43</td>\n",
       "    </tr>\n",
       "    <tr>\n",
       "      <th>...</th>\n",
       "      <td>...</td>\n",
       "      <td>...</td>\n",
       "    </tr>\n",
       "    <tr>\n",
       "      <th>7495</th>\n",
       "      <td>E</td>\n",
       "      <td>47</td>\n",
       "    </tr>\n",
       "    <tr>\n",
       "      <th>7496</th>\n",
       "      <td>E</td>\n",
       "      <td>80</td>\n",
       "    </tr>\n",
       "    <tr>\n",
       "      <th>7497</th>\n",
       "      <td>E</td>\n",
       "      <td>66</td>\n",
       "    </tr>\n",
       "    <tr>\n",
       "      <th>7498</th>\n",
       "      <td>E</td>\n",
       "      <td>95</td>\n",
       "    </tr>\n",
       "    <tr>\n",
       "      <th>7499</th>\n",
       "      <td>E</td>\n",
       "      <td>83</td>\n",
       "    </tr>\n",
       "  </tbody>\n",
       "</table>\n",
       "<p>7500 rows × 2 columns</p>\n",
       "</div>"
      ],
      "text/plain": [
       "     ECO  Movements\n",
       "0      A         62\n",
       "1      A         65\n",
       "2      A         48\n",
       "3      A         43\n",
       "4      A         43\n",
       "...   ..        ...\n",
       "7495   E         47\n",
       "7496   E         80\n",
       "7497   E         66\n",
       "7498   E         95\n",
       "7499   E         83\n",
       "\n",
       "[7500 rows x 2 columns]"
      ]
     },
     "execution_count": 11,
     "metadata": {},
     "output_type": "execute_result"
    }
   ],
   "source": [
    "# Individual dataframes for each group\n",
    "df_A = group[(group['ECO'] == 'A')]\n",
    "df_B = group[(group['ECO'] == 'B')]\n",
    "df_C = group[(group['ECO'] == 'C')]\n",
    "df_D = group[(group['ECO'] == 'D')]\n",
    "df_E = group[(group['ECO'] == 'E')]\n",
    "\n",
    "# Resampling\n",
    "re_A = resample(df_A, n_samples = 1500, random_state = 23490)\n",
    "re_B = resample(df_B, n_samples = 1500, random_state = 23490)\n",
    "re_C = resample(df_C, n_samples = 1500, random_state = 23490)\n",
    "re_D = resample(df_D, n_samples = 1500, random_state = 23490)\n",
    "re_E = resample(df_E, n_samples = 1500, random_state = 23490)\n",
    "\n",
    "# Resampled group dataframe\n",
    "re_group = pd.concat([re_A, re_B, re_C, re_D, re_E])\n",
    "re_group = re_group.reset_index(drop = True)\n",
    "re_group"
   ]
  },
  {
   "cell_type": "code",
   "execution_count": 12,
   "metadata": {},
   "outputs": [
    {
     "data": {
      "image/png": "[encoded data removed]",
      "text/plain": [
       "<Figure size 864x216 with 2 Axes>"
      ]
     },
     "metadata": {
      "needs_background": "light"
     },
     "output_type": "display_data"
    }
   ],
   "source": [
    "fig, axes = plt.subplots(1, 2, figsize = (12, 3))\n",
    "sns.histplot(re_group, x = 'Movements', stat = 'density', bins = 30, ax = axes[0])\n",
    "sns.histplot(re_group, x = 'Movements', stat = 'density', bins = 30, hue = 'ECO', ax = axes[1])\n",
    "plt.savefig('graphs/distribution_moves.pdf', bbox_inches = 'tight')"
   ]
  },
  {
   "cell_type": "code",
   "execution_count": 13,
   "metadata": {},
   "outputs": [
    {
     "data": {
      "image/png": "[encoded data removed]",
      "text/plain": [
       "<Figure size 360x360 with 1 Axes>"
      ]
     },
     "metadata": {
      "needs_background": "light"
     },
     "output_type": "display_data"
    }
   ],
   "source": [
    "sns.catplot(data = re_group, x = 'ECO', y = 'Movements', kind = 'box')\n",
    "plt.title('Boxplot: ECO and Moves')\n",
    "plt.savefig('graphs/boxplot_eco_moves.pdf', bbox_inches = 'tight')"
   ]
  },
  {
   "cell_type": "code",
   "execution_count": 14,
   "metadata": {},
   "outputs": [
    {
     "name": "stdout",
     "output_type": "stream",
     "text": [
      "F statistic = 21.665848096505243\n",
      "p-value = 8.532681030482333e-18\n",
      "The null hypothesis is rejected.\n"
     ]
    }
   ],
   "source": [
    "# Grouping\n",
    "groups = re_group.groupby('ECO').groups\n",
    "A = re_group['Movements'][groups['A']]\n",
    "B = re_group['Movements'][groups['B']]\n",
    "C = re_group['Movements'][groups['C']]\n",
    "D = re_group['Movements'][groups['D']]\n",
    "E = re_group['Movements'][groups['E']]\n",
    "\n",
    "# log transformation\n",
    "A_log = np.log(A)\n",
    "B_log = np.log(B)\n",
    "C_log = np.log(C)\n",
    "D_log = np.log(D)\n",
    "E_log = np.log(E)\n",
    "\n",
    "# ANOVA\n",
    "f_stat, p_value = stats.f_oneway(A_log, B_log, C_log, D_log, E_log)\n",
    "print('F statistic = {}'.format(f_stat))\n",
    "print('p-value = {}'.format(p_value))\n",
    "if p_value < alpha:\n",
    "    print('The null hypothesis is rejected.')\n",
    "else:\n",
    "    print('The null hypothesis is not rejected.')"
   ]
  },
  {
   "cell_type": "code",
   "execution_count": 15,
   "metadata": {},
   "outputs": [
    {
     "data": {
      "image/png": "[encoded data removed]",
      "text/plain": [
       "<Figure size 1800x216 with 5 Axes>"
      ]
     },
     "metadata": {
      "needs_background": "light"
     },
     "output_type": "display_data"
    }
   ],
   "source": [
    "fig, axes = plt.subplots(1,5, figsize = (25,3))\n",
    "sns.histplot(A_log, stat = 'density', ax = axes[0], color = 'red', bins = 30)\n",
    "sns.histplot(B_log, stat = 'density', ax = axes[1], color = 'blue', bins = 30)\n",
    "sns.histplot(C_log, stat = 'density', ax = axes[2], color = 'green', bins = 30)\n",
    "sns.histplot(D_log, stat = 'density', ax = axes[3], color = 'yellow', bins = 30)\n",
    "sns.histplot(E_log, stat = 'density', ax = axes[4], color = 'brown', bins = 30)\n",
    "axes[0].set_title('Log(A)')\n",
    "axes[1].set_title('Log(B)')\n",
    "axes[2].set_title('Log(C)')\n",
    "axes[3].set_title('Log(D)')\n",
    "axes[4].set_title('Log(E)')\n",
    "plt.savefig('graphs/log_eco.pdf', bbox_inches = 'tight')"
   ]
  },
  {
   "cell_type": "markdown",
   "metadata": {},
   "source": [
    "## ANOVA test: Movements and type of game\n",
    "\n",
    "Each game is grouped in one of 4 types of game according to Category.\n",
    "\n",
    "$H_0$: The mean number of movements is the same for all the categories.\n",
    "\n",
    "$H_1$: At least one category has a different mean number of movements."
   ]
  },
  {
   "cell_type": "code",
   "execution_count": 16,
   "metadata": {},
   "outputs": [
    {
     "data": {
      "image/png": "[encoded data removed]",
      "text/plain": [
       "<Figure size 432x288 with 1 Axes>"
      ]
     },
     "metadata": {
      "needs_background": "light"
     },
     "output_type": "display_data"
    }
   ],
   "source": [
    "# DataFrame and imbalance\n",
    "category = games_df[['Movements', 'Category']]\n",
    "category['Category'].value_counts(normalize = True).plot.bar(color = ['#040303', '#461111', '#A13333', '#B3541E'])\n",
    "category['Category'].value_counts()\n",
    "plt.xlabel('Category')\n",
    "plt.ylabel('Frequency Density')\n",
    "plt.title('Category: Frequency Distribution')\n",
    "plt.savefig('graphs/category_freq.pdf', bbox_inches = 'tight')"
   ]
  },
  {
   "cell_type": "code",
   "execution_count": 17,
   "metadata": {},
   "outputs": [
    {
     "data": {
      "text/html": [
       "<div>\n",
       "<style scoped>\n",
       "    .dataframe tbody tr th:only-of-type {\n",
       "        vertical-align: middle;\n",
       "    }\n",
       "\n",
       "    .dataframe tbody tr th {\n",
       "        vertical-align: top;\n",
       "    }\n",
       "\n",
       "    .dataframe thead th {\n",
       "        text-align: right;\n",
       "    }\n",
       "</style>\n",
       "<table border=\"1\" class=\"dataframe\">\n",
       "  <thead>\n",
       "    <tr style=\"text-align: right;\">\n",
       "      <th></th>\n",
       "      <th>Movements</th>\n",
       "      <th>Category</th>\n",
       "    </tr>\n",
       "  </thead>\n",
       "  <tbody>\n",
       "    <tr>\n",
       "      <th>0</th>\n",
       "      <td>36</td>\n",
       "      <td>Blitz</td>\n",
       "    </tr>\n",
       "    <tr>\n",
       "      <th>1</th>\n",
       "      <td>83</td>\n",
       "      <td>Blitz</td>\n",
       "    </tr>\n",
       "    <tr>\n",
       "      <th>2</th>\n",
       "      <td>46</td>\n",
       "      <td>Blitz</td>\n",
       "    </tr>\n",
       "    <tr>\n",
       "      <th>3</th>\n",
       "      <td>70</td>\n",
       "      <td>Blitz</td>\n",
       "    </tr>\n",
       "    <tr>\n",
       "      <th>4</th>\n",
       "      <td>67</td>\n",
       "      <td>Blitz</td>\n",
       "    </tr>\n",
       "    <tr>\n",
       "      <th>...</th>\n",
       "      <td>...</td>\n",
       "      <td>...</td>\n",
       "    </tr>\n",
       "    <tr>\n",
       "      <th>7495</th>\n",
       "      <td>63</td>\n",
       "      <td>Classical</td>\n",
       "    </tr>\n",
       "    <tr>\n",
       "      <th>7496</th>\n",
       "      <td>58</td>\n",
       "      <td>Classical</td>\n",
       "    </tr>\n",
       "    <tr>\n",
       "      <th>7497</th>\n",
       "      <td>109</td>\n",
       "      <td>Classical</td>\n",
       "    </tr>\n",
       "    <tr>\n",
       "      <th>7498</th>\n",
       "      <td>56</td>\n",
       "      <td>Classical</td>\n",
       "    </tr>\n",
       "    <tr>\n",
       "      <th>7499</th>\n",
       "      <td>66</td>\n",
       "      <td>Classical</td>\n",
       "    </tr>\n",
       "  </tbody>\n",
       "</table>\n",
       "<p>7500 rows × 2 columns</p>\n",
       "</div>"
      ],
      "text/plain": [
       "      Movements   Category\n",
       "0            36      Blitz\n",
       "1            83      Blitz\n",
       "2            46      Blitz\n",
       "3            70      Blitz\n",
       "4            67      Blitz\n",
       "...         ...        ...\n",
       "7495         63  Classical\n",
       "7496         58  Classical\n",
       "7497        109  Classical\n",
       "7498         56  Classical\n",
       "7499         66  Classical\n",
       "\n",
       "[7500 rows x 2 columns]"
      ]
     },
     "execution_count": 17,
     "metadata": {},
     "output_type": "execute_result"
    }
   ],
   "source": [
    "# Individual dataframes for each group\n",
    "df_blitz = category[(category['Category'] == 'Blitz')]\n",
    "df_rapid = category[(category['Category'] == 'Rapid')]\n",
    "df_bullet = category[(category['Category'] == 'Bullet')]\n",
    "df_classical = category[(category['Category'] == 'Classical')]\n",
    "\n",
    "# Resampling\n",
    "re_blitz = resample(df_blitz, n_samples = 1875, random_state = 23490)\n",
    "re_rapid = resample(df_rapid, n_samples = 1875, random_state = 23490)\n",
    "re_bullet = resample(df_bullet, n_samples = 1875, random_state = 23490)\n",
    "re_classical = resample(df_classical, n_samples = 1875, random_state = 23490)\n",
    "\n",
    "# Resampled group dataframe\n",
    "re_category = pd.concat([re_blitz, re_rapid, re_bullet, re_classical])\n",
    "re_category = re_category.reset_index(drop = True)\n",
    "re_category"
   ]
  },
  {
   "cell_type": "code",
   "execution_count": 18,
   "metadata": {},
   "outputs": [
    {
     "data": {
      "image/png": "[encoded data removed]",
      "text/plain": [
       "<Figure size 360x360 with 1 Axes>"
      ]
     },
     "metadata": {
      "needs_background": "light"
     },
     "output_type": "display_data"
    }
   ],
   "source": [
    "sns.catplot(data = re_category, x = 'Category', y = 'Movements', kind = 'box')\n",
    "plt.title('Boxplot: Category and Moves')\n",
    "plt.savefig('graphs/boxplot_category_moves.pdf', bbox_inches = 'tight')"
   ]
  },
  {
   "cell_type": "code",
   "execution_count": 19,
   "metadata": {},
   "outputs": [
    {
     "name": "stdout",
     "output_type": "stream",
     "text": [
      "F statistic = 7.779036975023016\n",
      "p-value = 3.4926029268274264e-05\n",
      "The null hypothesis is rejected.\n"
     ]
    }
   ],
   "source": [
    "# Grouping\n",
    "categories = re_category.groupby('Category').groups\n",
    "blitz = re_category['Movements'][categories['Blitz']]\n",
    "rapid = re_category['Movements'][categories['Rapid']]\n",
    "bullet = re_category['Movements'][categories['Bullet']]\n",
    "classical = re_category['Movements'][categories['Classical']]\n",
    "\n",
    "# log transformation\n",
    "blitz_log = np.log(blitz)\n",
    "rapid_log = np.log(rapid)\n",
    "bullet_log = np.log(bullet)\n",
    "classical_log = np.log(classical)\n",
    "\n",
    "# ANOVA\n",
    "f_stat, p_value = stats.f_oneway(blitz_log, rapid_log, bullet_log, classical_log)\n",
    "print('F statistic = {}'.format(f_stat))\n",
    "print('p-value = {}'.format(p_value))\n",
    "if p_value < alpha:\n",
    "    print('The null hypothesis is rejected.')\n",
    "else:\n",
    "    print('The null hypothesis is not rejected.')"
   ]
  },
  {
   "cell_type": "code",
   "execution_count": 20,
   "metadata": {},
   "outputs": [
    {
     "data": {
      "image/png": "[encoded data removed]",
      "text/plain": [
       "<Figure size 864x216 with 2 Axes>"
      ]
     },
     "metadata": {
      "needs_background": "light"
     },
     "output_type": "display_data"
    }
   ],
   "source": [
    "fig, axes = plt.subplots(1, 2, figsize = (12,3))\n",
    "sns.histplot(re_category, x = 'Movements', stat = 'density', bins = 30, color = 'red', ax = axes[0])\n",
    "sns.histplot(re_category, x = 'Movements', stat = 'density', bins = 30, hue = 'Category', ax = axes[1])\n",
    "plt.savefig('graphs/distribution_moves_category.pdf', bbox_inches = 'tight')"
   ]
  },
  {
   "cell_type": "markdown",
   "metadata": {},
   "source": [
    "## Statistical independence: Elo range and Opening\n",
    "\n",
    "A $\\chi ^ 2$-test is used to determine if the categorical variates EloTier and ECO are statistically independent.\n",
    "\n",
    "$H_0$: The variates are independent.\n",
    "\n",
    "$H_1$: The variates are dependent."
   ]
  },
  {
   "cell_type": "code",
   "execution_count": 21,
   "metadata": {},
   "outputs": [
    {
     "name": "stdout",
     "output_type": "stream",
     "text": [
      "EloTier  High elo  Low elo  Mid elo  Very high elo\n",
      "ECO                                               \n",
      "A             373      297      346            464\n",
      "B             492      348      427            502\n",
      "C             340      594      513            263\n",
      "D             237      246      183            198\n",
      "E              58       15       31             73\n"
     ]
    }
   ],
   "source": [
    "group['EloTier'] = elo['EloTier']\n",
    "elo_op = group.drop('Movements', axis = 1)\n",
    "\n",
    "# Individual dataframes for each group\n",
    "df_low = elo_op[(elo_op['EloTier'] == 'Low elo')]\n",
    "df_mid = elo_op[(elo_op['EloTier'] == 'Mid elo')]\n",
    "df_high = elo_op[(elo_op['EloTier'] == 'High elo')]\n",
    "df_vhigh = elo_op[(elo_op['EloTier'] == 'Very high elo')]\n",
    "\n",
    "# Resampling\n",
    "re_low = resample(df_low, n_samples = 1500, random_state = 23490)\n",
    "re_mid = resample(df_mid, n_samples = 1500, random_state = 23490)\n",
    "re_high = resample(df_high, n_samples = 1500, random_state = 23490)\n",
    "re_vhigh = resample(df_vhigh, n_samples = 1500, random_state = 23490)\n",
    "\n",
    "# Resampled dataframe\n",
    "re_elo_op = pd.concat([re_low, re_mid, re_high, re_vhigh])\n",
    "re_elo_op = re_elo_op.reset_index(drop = True)\n",
    "\n",
    "# Contingency table\n",
    "ct_ind = pd.crosstab(re_elo_op['ECO'], re_elo_op['EloTier'])\n",
    "print(ct_ind)"
   ]
  },
  {
   "cell_type": "code",
   "execution_count": 22,
   "metadata": {},
   "outputs": [
    {
     "name": "stdout",
     "output_type": "stream",
     "text": [
      "chi2 statistic = 296.3056073976459\n",
      "p-value = 2.8004547989071422e-56\n",
      "# degrees of freedom = 12\n",
      "The null hypothesis is rejected.\n"
     ]
    }
   ],
   "source": [
    "chi2_stat, p_value, dof, expected = stats.chi2_contingency(ct_ind)\n",
    "print('chi2 statistic = {}'.format(chi2_stat))\n",
    "print('p-value = {}'.format(p_value))\n",
    "print('# degrees of freedom = {}'.format(dof))\n",
    "\n",
    "if p_value < alpha:\n",
    "    print('The null hypothesis is rejected.')\n",
    "else:\n",
    "    print('The null hypothesis is not rejected.')"
   ]
  },
  {
   "cell_type": "code",
   "execution_count": 23,
   "metadata": {},
   "outputs": [
    {
     "data": {
      "image/png": "[encoded data removed]",
      "text/plain": [
       "<Figure size 360x360 with 2 Axes>"
      ]
     },
     "metadata": {
      "needs_background": "light"
     },
     "output_type": "display_data"
    }
   ],
   "source": [
    "sns.displot(data = re_elo_op, x = 'EloTier', y = 'ECO', cbar = True, color = '#461111')\n",
    "plt.title('Counts')\n",
    "plt.savefig('graphs/counts_eco_elo.pdf', bbox_inches = 'tight')"
   ]
  },
  {
   "cell_type": "markdown",
   "metadata": {},
   "source": [
    "## $\\chi^2$ test: Result and Elo range\n",
    "\n",
    "Each game is classified in one of 4 tiers of elo according to the mean elo between black and white: low elo, mid elo, high elo, very high elo.\n",
    "\n",
    "$H_0$: There is no substantial relationship between the EloTier and Result variates.\n",
    "\n",
    "$H_1$: There is a substantial relationship between the EloTier and Result variates."
   ]
  },
  {
   "cell_type": "code",
   "execution_count": 24,
   "metadata": {},
   "outputs": [
    {
     "data": {
      "text/html": [
       "<div>\n",
       "<style scoped>\n",
       "    .dataframe tbody tr th:only-of-type {\n",
       "        vertical-align: middle;\n",
       "    }\n",
       "\n",
       "    .dataframe tbody tr th {\n",
       "        vertical-align: top;\n",
       "    }\n",
       "\n",
       "    .dataframe thead th {\n",
       "        text-align: right;\n",
       "    }\n",
       "</style>\n",
       "<table border=\"1\" class=\"dataframe\">\n",
       "  <thead>\n",
       "    <tr style=\"text-align: right;\">\n",
       "      <th></th>\n",
       "      <th>BlackElo</th>\n",
       "      <th>BlackRatingDiff</th>\n",
       "      <th>Date</th>\n",
       "      <th>ECO</th>\n",
       "      <th>Result</th>\n",
       "      <th>Termination</th>\n",
       "      <th>UTCTime</th>\n",
       "      <th>WhiteElo</th>\n",
       "      <th>WhiteRatingDiff</th>\n",
       "      <th>BlackTitle</th>\n",
       "      <th>WhiteTitle</th>\n",
       "      <th>Category</th>\n",
       "      <th>Weekday</th>\n",
       "      <th>Movements</th>\n",
       "      <th>EloTier</th>\n",
       "    </tr>\n",
       "  </thead>\n",
       "  <tbody>\n",
       "    <tr>\n",
       "      <th>0</th>\n",
       "      <td>906</td>\n",
       "      <td>13.0</td>\n",
       "      <td>2019.04.30</td>\n",
       "      <td>B15</td>\n",
       "      <td>Lose</td>\n",
       "      <td>Normal</td>\n",
       "      <td>22:00:24</td>\n",
       "      <td>971</td>\n",
       "      <td>-12.0</td>\n",
       "      <td>NaN</td>\n",
       "      <td>NaN</td>\n",
       "      <td>Blitz</td>\n",
       "      <td>Tuesday</td>\n",
       "      <td>73</td>\n",
       "      <td>Low elo</td>\n",
       "    </tr>\n",
       "    <tr>\n",
       "      <th>1</th>\n",
       "      <td>1296</td>\n",
       "      <td>28.0</td>\n",
       "      <td>2019.04.30</td>\n",
       "      <td>C50</td>\n",
       "      <td>Lose</td>\n",
       "      <td>Normal</td>\n",
       "      <td>22:00:13</td>\n",
       "      <td>1312</td>\n",
       "      <td>-10.0</td>\n",
       "      <td>NaN</td>\n",
       "      <td>NaN</td>\n",
       "      <td>Blitz</td>\n",
       "      <td>Tuesday</td>\n",
       "      <td>67</td>\n",
       "      <td>Low elo</td>\n",
       "    </tr>\n",
       "    <tr>\n",
       "      <th>2</th>\n",
       "      <td>1761</td>\n",
       "      <td>-13.0</td>\n",
       "      <td>2019.04.30</td>\n",
       "      <td>C41</td>\n",
       "      <td>Win</td>\n",
       "      <td>Normal</td>\n",
       "      <td>22:00:41</td>\n",
       "      <td>1653</td>\n",
       "      <td>27.0</td>\n",
       "      <td>NaN</td>\n",
       "      <td>NaN</td>\n",
       "      <td>Rapid</td>\n",
       "      <td>Tuesday</td>\n",
       "      <td>71</td>\n",
       "      <td>Mid elo</td>\n",
       "    </tr>\n",
       "    <tr>\n",
       "      <th>3</th>\n",
       "      <td>2404</td>\n",
       "      <td>8.0</td>\n",
       "      <td>2019.04.30</td>\n",
       "      <td>B06</td>\n",
       "      <td>Lose</td>\n",
       "      <td>Normal</td>\n",
       "      <td>22:00:43</td>\n",
       "      <td>2324</td>\n",
       "      <td>-8.0</td>\n",
       "      <td>NaN</td>\n",
       "      <td>FM</td>\n",
       "      <td>Bullet</td>\n",
       "      <td>Tuesday</td>\n",
       "      <td>85</td>\n",
       "      <td>Very high elo</td>\n",
       "    </tr>\n",
       "    <tr>\n",
       "      <th>4</th>\n",
       "      <td>1595</td>\n",
       "      <td>-10.0</td>\n",
       "      <td>2019.04.30</td>\n",
       "      <td>B32</td>\n",
       "      <td>Win</td>\n",
       "      <td>Normal</td>\n",
       "      <td>22:00:46</td>\n",
       "      <td>1614</td>\n",
       "      <td>29.0</td>\n",
       "      <td>NaN</td>\n",
       "      <td>NaN</td>\n",
       "      <td>Blitz</td>\n",
       "      <td>Tuesday</td>\n",
       "      <td>71</td>\n",
       "      <td>Mid elo</td>\n",
       "    </tr>\n",
       "    <tr>\n",
       "      <th>...</th>\n",
       "      <td>...</td>\n",
       "      <td>...</td>\n",
       "      <td>...</td>\n",
       "      <td>...</td>\n",
       "      <td>...</td>\n",
       "      <td>...</td>\n",
       "      <td>...</td>\n",
       "      <td>...</td>\n",
       "      <td>...</td>\n",
       "      <td>...</td>\n",
       "      <td>...</td>\n",
       "      <td>...</td>\n",
       "      <td>...</td>\n",
       "      <td>...</td>\n",
       "      <td>...</td>\n",
       "    </tr>\n",
       "    <tr>\n",
       "      <th>199995</th>\n",
       "      <td>1491</td>\n",
       "      <td>10.0</td>\n",
       "      <td>2019.05.22</td>\n",
       "      <td>B00</td>\n",
       "      <td>Lose</td>\n",
       "      <td>Normal</td>\n",
       "      <td>21:17:00</td>\n",
       "      <td>1456</td>\n",
       "      <td>-9.0</td>\n",
       "      <td>NaN</td>\n",
       "      <td>NaN</td>\n",
       "      <td>Rapid</td>\n",
       "      <td>Wednesday</td>\n",
       "      <td>30</td>\n",
       "      <td>Mid elo</td>\n",
       "    </tr>\n",
       "    <tr>\n",
       "      <th>199996</th>\n",
       "      <td>1549</td>\n",
       "      <td>-10.0</td>\n",
       "      <td>2019.05.22</td>\n",
       "      <td>C21</td>\n",
       "      <td>Win</td>\n",
       "      <td>Time forfeit</td>\n",
       "      <td>21:17:09</td>\n",
       "      <td>1575</td>\n",
       "      <td>25.0</td>\n",
       "      <td>NaN</td>\n",
       "      <td>NaN</td>\n",
       "      <td>Classical</td>\n",
       "      <td>Wednesday</td>\n",
       "      <td>59</td>\n",
       "      <td>Mid elo</td>\n",
       "    </tr>\n",
       "    <tr>\n",
       "      <th>199997</th>\n",
       "      <td>1450</td>\n",
       "      <td>-11.0</td>\n",
       "      <td>2019.05.22</td>\n",
       "      <td>D20</td>\n",
       "      <td>Win</td>\n",
       "      <td>Normal</td>\n",
       "      <td>21:17:09</td>\n",
       "      <td>1439</td>\n",
       "      <td>11.0</td>\n",
       "      <td>NaN</td>\n",
       "      <td>NaN</td>\n",
       "      <td>Blitz</td>\n",
       "      <td>Wednesday</td>\n",
       "      <td>42</td>\n",
       "      <td>Mid elo</td>\n",
       "    </tr>\n",
       "    <tr>\n",
       "      <th>199998</th>\n",
       "      <td>1588</td>\n",
       "      <td>40.0</td>\n",
       "      <td>2019.05.22</td>\n",
       "      <td>B07</td>\n",
       "      <td>Lose</td>\n",
       "      <td>Normal</td>\n",
       "      <td>21:17:13</td>\n",
       "      <td>1753</td>\n",
       "      <td>-18.0</td>\n",
       "      <td>NaN</td>\n",
       "      <td>NaN</td>\n",
       "      <td>Bullet</td>\n",
       "      <td>Wednesday</td>\n",
       "      <td>45</td>\n",
       "      <td>Mid elo</td>\n",
       "    </tr>\n",
       "    <tr>\n",
       "      <th>199999</th>\n",
       "      <td>1184</td>\n",
       "      <td>8.0</td>\n",
       "      <td>2019.05.22</td>\n",
       "      <td>A40</td>\n",
       "      <td>Lose</td>\n",
       "      <td>Normal</td>\n",
       "      <td>21:17:19</td>\n",
       "      <td>1097</td>\n",
       "      <td>-8.0</td>\n",
       "      <td>NaN</td>\n",
       "      <td>NaN</td>\n",
       "      <td>Blitz</td>\n",
       "      <td>Wednesday</td>\n",
       "      <td>95</td>\n",
       "      <td>Low elo</td>\n",
       "    </tr>\n",
       "  </tbody>\n",
       "</table>\n",
       "<p>200000 rows × 15 columns</p>\n",
       "</div>"
      ],
      "text/plain": [
       "        BlackElo  BlackRatingDiff        Date  ECO Result   Termination  \\\n",
       "0            906             13.0  2019.04.30  B15   Lose        Normal   \n",
       "1           1296             28.0  2019.04.30  C50   Lose        Normal   \n",
       "2           1761            -13.0  2019.04.30  C41    Win        Normal   \n",
       "3           2404              8.0  2019.04.30  B06   Lose        Normal   \n",
       "4           1595            -10.0  2019.04.30  B32    Win        Normal   \n",
       "...          ...              ...         ...  ...    ...           ...   \n",
       "199995      1491             10.0  2019.05.22  B00   Lose        Normal   \n",
       "199996      1549            -10.0  2019.05.22  C21    Win  Time forfeit   \n",
       "199997      1450            -11.0  2019.05.22  D20    Win        Normal   \n",
       "199998      1588             40.0  2019.05.22  B07   Lose        Normal   \n",
       "199999      1184              8.0  2019.05.22  A40   Lose        Normal   \n",
       "\n",
       "         UTCTime  WhiteElo  WhiteRatingDiff BlackTitle WhiteTitle   Category  \\\n",
       "0       22:00:24       971            -12.0        NaN        NaN      Blitz   \n",
       "1       22:00:13      1312            -10.0        NaN        NaN      Blitz   \n",
       "2       22:00:41      1653             27.0        NaN        NaN      Rapid   \n",
       "3       22:00:43      2324             -8.0        NaN         FM     Bullet   \n",
       "4       22:00:46      1614             29.0        NaN        NaN      Blitz   \n",
       "...          ...       ...              ...        ...        ...        ...   \n",
       "199995  21:17:00      1456             -9.0        NaN        NaN      Rapid   \n",
       "199996  21:17:09      1575             25.0        NaN        NaN  Classical   \n",
       "199997  21:17:09      1439             11.0        NaN        NaN      Blitz   \n",
       "199998  21:17:13      1753            -18.0        NaN        NaN     Bullet   \n",
       "199999  21:17:19      1097             -8.0        NaN        NaN      Blitz   \n",
       "\n",
       "          Weekday  Movements        EloTier  \n",
       "0         Tuesday         73        Low elo  \n",
       "1         Tuesday         67        Low elo  \n",
       "2         Tuesday         71        Mid elo  \n",
       "3         Tuesday         85  Very high elo  \n",
       "4         Tuesday         71        Mid elo  \n",
       "...           ...        ...            ...  \n",
       "199995  Wednesday         30        Mid elo  \n",
       "199996  Wednesday         59        Mid elo  \n",
       "199997  Wednesday         42        Mid elo  \n",
       "199998  Wednesday         45        Mid elo  \n",
       "199999  Wednesday         95        Low elo  \n",
       "\n",
       "[200000 rows x 15 columns]"
      ]
     },
     "execution_count": 24,
     "metadata": {},
     "output_type": "execute_result"
    }
   ],
   "source": [
    "import scipy.stats\n",
    "from sklearn.utils import resample\n",
    "from scipy.stats import chi2_contingency\n",
    "\n",
    "games_df['EloTier'] = ['Very high elo' if elo >= 2000 else 'High elo' if elo >= 1800 else \\\n",
    "    'Mid elo' if elo >= 1400 else 'Low elo' for elo in avg_elo] #Create a new EloTier column\n",
    "games_df['Result'].replace({'0-1': 'Lose', '1/2-1/2': 'Draw', '*': np.NAN, '1-0': 'Win'}, inplace = True) #Replace the numeric with categorical variables\n",
    "games_df"
   ]
  },
  {
   "cell_type": "markdown",
   "metadata": {},
   "source": [
    "The ```Abandoned``` variate was removed because its occurrence in the data was only 5."
   ]
  },
  {
   "cell_type": "code",
   "execution_count": 25,
   "metadata": {},
   "outputs": [
    {
     "data": {
      "image/png": "[encoded data removed]",
      "text/plain": [
       "<Figure size 432x288 with 1 Axes>"
      ]
     },
     "metadata": {
      "needs_background": "light"
     },
     "output_type": "display_data"
    }
   ],
   "source": [
    "regames_df = pd.DataFrame(games_df['EloTier'])\n",
    "regames_df['Result'] = games_df['Result']\n",
    "regames_df['EloTier'].value_counts(normalize = True).plot.bar(color = ['black', 'blue', 'green', 'red'])\n",
    "regames_df.value_counts()\n",
    "plt.title('EloTier: Frequency distribution')\n",
    "plt.xlabel('Elo Tier')\n",
    "plt.ylabel('Density')\n",
    "plt.savefig('graphs/frequency_elotier.pdf', bbox_inches = 'tight') "
   ]
  },
  {
   "cell_type": "code",
   "execution_count": 26,
   "metadata": {},
   "outputs": [
    {
     "data": {
      "text/html": [
       "<div>\n",
       "<style scoped>\n",
       "    .dataframe tbody tr th:only-of-type {\n",
       "        vertical-align: middle;\n",
       "    }\n",
       "\n",
       "    .dataframe tbody tr th {\n",
       "        vertical-align: top;\n",
       "    }\n",
       "\n",
       "    .dataframe thead th {\n",
       "        text-align: right;\n",
       "    }\n",
       "</style>\n",
       "<table border=\"1\" class=\"dataframe\">\n",
       "  <thead>\n",
       "    <tr style=\"text-align: right;\">\n",
       "      <th></th>\n",
       "      <th>EloTier</th>\n",
       "      <th>Result</th>\n",
       "    </tr>\n",
       "  </thead>\n",
       "  <tbody>\n",
       "    <tr>\n",
       "      <th>0</th>\n",
       "      <td>Low elo</td>\n",
       "      <td>Lose</td>\n",
       "    </tr>\n",
       "    <tr>\n",
       "      <th>1</th>\n",
       "      <td>Low elo</td>\n",
       "      <td>Win</td>\n",
       "    </tr>\n",
       "    <tr>\n",
       "      <th>2</th>\n",
       "      <td>Low elo</td>\n",
       "      <td>Lose</td>\n",
       "    </tr>\n",
       "    <tr>\n",
       "      <th>3</th>\n",
       "      <td>Low elo</td>\n",
       "      <td>Lose</td>\n",
       "    </tr>\n",
       "    <tr>\n",
       "      <th>4</th>\n",
       "      <td>Low elo</td>\n",
       "      <td>Win</td>\n",
       "    </tr>\n",
       "    <tr>\n",
       "      <th>...</th>\n",
       "      <td>...</td>\n",
       "      <td>...</td>\n",
       "    </tr>\n",
       "    <tr>\n",
       "      <th>7495</th>\n",
       "      <td>Very high elo</td>\n",
       "      <td>Lose</td>\n",
       "    </tr>\n",
       "    <tr>\n",
       "      <th>7496</th>\n",
       "      <td>Very high elo</td>\n",
       "      <td>Lose</td>\n",
       "    </tr>\n",
       "    <tr>\n",
       "      <th>7497</th>\n",
       "      <td>Very high elo</td>\n",
       "      <td>Win</td>\n",
       "    </tr>\n",
       "    <tr>\n",
       "      <th>7498</th>\n",
       "      <td>Very high elo</td>\n",
       "      <td>Lose</td>\n",
       "    </tr>\n",
       "    <tr>\n",
       "      <th>7499</th>\n",
       "      <td>Very high elo</td>\n",
       "      <td>Lose</td>\n",
       "    </tr>\n",
       "  </tbody>\n",
       "</table>\n",
       "<p>7500 rows × 2 columns</p>\n",
       "</div>"
      ],
      "text/plain": [
       "            EloTier Result\n",
       "0           Low elo   Lose\n",
       "1           Low elo    Win\n",
       "2           Low elo   Lose\n",
       "3           Low elo   Lose\n",
       "4           Low elo    Win\n",
       "...             ...    ...\n",
       "7495  Very high elo   Lose\n",
       "7496  Very high elo   Lose\n",
       "7497  Very high elo    Win\n",
       "7498  Very high elo   Lose\n",
       "7499  Very high elo   Lose\n",
       "\n",
       "[7500 rows x 2 columns]"
      ]
     },
     "execution_count": 26,
     "metadata": {},
     "output_type": "execute_result"
    }
   ],
   "source": [
    "# Individual dataframes for each group\n",
    "df_L = regames_df[(regames_df['EloTier'] == 'Low elo')]\n",
    "df_M = regames_df[(regames_df['EloTier'] == 'Mid elo')]\n",
    "df_H = regames_df[(regames_df['EloTier'] == 'High elo')]\n",
    "df_VH = regames_df[(regames_df['EloTier'] == 'Very high elo')]\n",
    "\n",
    "\n",
    "# Resampling\n",
    "re_L = resample(df_L, replace = True, n_samples = 1875, random_state = 32158)\n",
    "re_M = resample(df_M, replace = True, n_samples = 1875, random_state = 32158)\n",
    "re_H = resample(df_H, replace = True, n_samples = 1875, random_state = 32158)\n",
    "re_VH = resample(df_VH, replace = True, n_samples = 1875, random_state = 32158)\n",
    "\n",
    "# Resampled group dataframe\n",
    "re_regames = pd.concat([re_L, re_M, re_H, re_VH])\n",
    "re_regames = re_regames.reset_index(drop = True)\n",
    "re_regames"
   ]
  },
  {
   "cell_type": "code",
   "execution_count": 27,
   "metadata": {},
   "outputs": [
    {
     "data": {
      "image/png": "[encoded data removed]",
      "text/plain": [
       "<Figure size 432x288 with 1 Axes>"
      ]
     },
     "metadata": {
      "needs_background": "light"
     },
     "output_type": "display_data"
    }
   ],
   "source": [
    "sns.histplot(re_regames['Result'], stat = 'density', color = '#B3541E')\n",
    "plt.title('Result: Density distribution')\n",
    "plt.savefig('graphs/result_density.pdf', bbox_inches = 'tight')"
   ]
  },
  {
   "cell_type": "code",
   "execution_count": 28,
   "metadata": {},
   "outputs": [
    {
     "data": {
      "image/png": "[encoded data removed]",
      "text/plain": [
       "<Figure size 360x360 with 2 Axes>"
      ]
     },
     "metadata": {
      "needs_background": "light"
     },
     "output_type": "display_data"
    }
   ],
   "source": [
    "sns.displot(data = re_regames, x = 'Result', y = 'EloTier', cbar = True, color = '#143F6B')\n",
    "plt.title('Counts')\n",
    "plt.savefig('graphs/counts_result_elo.pdf', bbox_inches = 'tight')"
   ]
  },
  {
   "cell_type": "code",
   "execution_count": 29,
   "metadata": {},
   "outputs": [
    {
     "name": "stdout",
     "output_type": "stream",
     "text": [
      "chi2 statistic:     16.013\n",
      "p-value:            0.013683\n",
      "degrees of freedom: 6\n",
      "expected frequencies:\n",
      " [[ 69.25923456 884.11788238 921.62288305]\n",
      " [ 69.25923456 884.11788238 921.62288305]\n",
      " [ 69.25923456 884.11788238 921.62288305]\n",
      " [ 69.22229631 883.64635285 921.13135085]]\n",
      "The null hypothesis is rejected.\n"
     ]
    }
   ],
   "source": [
    "contingency_games = pd.crosstab(re_regames[\"EloTier\"], re_regames[\"Result\"]) #contingency table\n",
    "contingency_games\n",
    "\n",
    "#chi_2 test\n",
    "chi2_stat, p, dof, expected = scipy.stats.chi2_contingency(contingency_games)\n",
    "print(f\"chi2 statistic:     {chi2_stat:.5g}\")\n",
    "print(f\"p-value:            {p:.5g}\")\n",
    "print(f\"degrees of freedom: {dof}\")\n",
    "print(\"expected frequencies:\\n\",expected)\n",
    "if p < alpha:\n",
    "    print('The null hypothesis is rejected.')\n",
    "else:\n",
    "    print('The null hypothesis is not rejected.')"
   ]
  },
  {
   "cell_type": "markdown",
   "metadata": {},
   "source": [
    "## ANOVA test: Result and RatingDiff\n",
    "\n",
    "Each game is classified in one of the three groups of the variable Result with its respective WhiteRatingDiff value\n",
    "\n",
    "The WhiteRatingDiff is used since the BlackRatingDiff is the counterpart of the WhiteRatingDiff\n",
    "\n",
    "WhiteRateDiffs with a negative value are assumed to have a higher probability of being associated with a game loss, on the other hand WhiteRateDiffs with a positive value have a higher probability of being associated with a game win.\n",
    "\n",
    "$H_0$: There is no substantial relationship between the WhiteRatingDiff and Result variates.\n",
    "\n",
    "$H_1$: There is a substantial relationship between the WhiteRatingDiff and Result variates."
   ]
  },
  {
   "cell_type": "code",
   "execution_count": 30,
   "metadata": {},
   "outputs": [
    {
     "data": {
      "text/plain": [
       "Result  WhiteRatingDiff\n",
       "Lose    -10.0              18033\n",
       "        -11.0              15061\n",
       "Win      10.0              13937\n",
       "         11.0              13878\n",
       "Lose    -9.0               12109\n",
       "                           ...  \n",
       "        -250.0                 1\n",
       "        -249.0                 1\n",
       "        -248.0                 1\n",
       "        -247.0                 1\n",
       "Win      692.0                 1\n",
       "Length: 764, dtype: int64"
      ]
     },
     "execution_count": 30,
     "metadata": {},
     "output_type": "execute_result"
    },
    {
     "data": {
      "image/png": "[encoded data removed]",
      "text/plain": [
       "<Figure size 432x288 with 1 Axes>"
      ]
     },
     "metadata": {
      "needs_background": "light"
     },
     "output_type": "display_data"
    }
   ],
   "source": [
    "games_WRD = pd.DataFrame(games_df['Result'])\n",
    "games_WRD['WhiteRatingDiff'] = games_df['WhiteRatingDiff']\n",
    "games_WRD['Result'].value_counts(normalize = True).plot.bar()\n",
    "games_WRD.value_counts()"
   ]
  },
  {
   "cell_type": "code",
   "execution_count": 31,
   "metadata": {},
   "outputs": [
    {
     "data": {
      "text/html": [
       "<div>\n",
       "<style scoped>\n",
       "    .dataframe tbody tr th:only-of-type {\n",
       "        vertical-align: middle;\n",
       "    }\n",
       "\n",
       "    .dataframe tbody tr th {\n",
       "        vertical-align: top;\n",
       "    }\n",
       "\n",
       "    .dataframe thead th {\n",
       "        text-align: right;\n",
       "    }\n",
       "</style>\n",
       "<table border=\"1\" class=\"dataframe\">\n",
       "  <thead>\n",
       "    <tr style=\"text-align: right;\">\n",
       "      <th></th>\n",
       "      <th>Result</th>\n",
       "      <th>WhiteRatingDiff</th>\n",
       "    </tr>\n",
       "  </thead>\n",
       "  <tbody>\n",
       "    <tr>\n",
       "      <th>0</th>\n",
       "      <td>Lose</td>\n",
       "      <td>-11.0</td>\n",
       "    </tr>\n",
       "    <tr>\n",
       "      <th>1</th>\n",
       "      <td>Lose</td>\n",
       "      <td>-15.0</td>\n",
       "    </tr>\n",
       "    <tr>\n",
       "      <th>2</th>\n",
       "      <td>Lose</td>\n",
       "      <td>-14.0</td>\n",
       "    </tr>\n",
       "    <tr>\n",
       "      <th>3</th>\n",
       "      <td>Lose</td>\n",
       "      <td>-10.0</td>\n",
       "    </tr>\n",
       "    <tr>\n",
       "      <th>4</th>\n",
       "      <td>Lose</td>\n",
       "      <td>-10.0</td>\n",
       "    </tr>\n",
       "    <tr>\n",
       "      <th>...</th>\n",
       "      <td>...</td>\n",
       "      <td>...</td>\n",
       "    </tr>\n",
       "    <tr>\n",
       "      <th>7495</th>\n",
       "      <td>Draw</td>\n",
       "      <td>0.0</td>\n",
       "    </tr>\n",
       "    <tr>\n",
       "      <th>7496</th>\n",
       "      <td>Draw</td>\n",
       "      <td>-1.0</td>\n",
       "    </tr>\n",
       "    <tr>\n",
       "      <th>7497</th>\n",
       "      <td>Draw</td>\n",
       "      <td>-2.0</td>\n",
       "    </tr>\n",
       "    <tr>\n",
       "      <th>7498</th>\n",
       "      <td>Draw</td>\n",
       "      <td>1.0</td>\n",
       "    </tr>\n",
       "    <tr>\n",
       "      <th>7499</th>\n",
       "      <td>Draw</td>\n",
       "      <td>-6.0</td>\n",
       "    </tr>\n",
       "  </tbody>\n",
       "</table>\n",
       "<p>7500 rows × 2 columns</p>\n",
       "</div>"
      ],
      "text/plain": [
       "     Result  WhiteRatingDiff\n",
       "0      Lose            -11.0\n",
       "1      Lose            -15.0\n",
       "2      Lose            -14.0\n",
       "3      Lose            -10.0\n",
       "4      Lose            -10.0\n",
       "...     ...              ...\n",
       "7495   Draw              0.0\n",
       "7496   Draw             -1.0\n",
       "7497   Draw             -2.0\n",
       "7498   Draw              1.0\n",
       "7499   Draw             -6.0\n",
       "\n",
       "[7500 rows x 2 columns]"
      ]
     },
     "execution_count": 31,
     "metadata": {},
     "output_type": "execute_result"
    }
   ],
   "source": [
    "# Individual dataframes for each group\n",
    "df_Lose = games_WRD[(games_WRD['Result'] == 'Lose')].dropna()\n",
    "df_Win = games_WRD[(games_WRD['Result'] == 'Win')].dropna()\n",
    "df_Draw = games_WRD[(games_WRD['Result'] == 'Draw')].dropna()\n",
    "\n",
    "# Resampling\n",
    "re_Lose = resample(df_Lose, replace = True, n_samples = 2500, random_state = 58963)\n",
    "re_Win = resample(df_Win, replace = True, n_samples = 2500, random_state = 58963)\n",
    "re_Draw = resample(df_Draw, replace = True, n_samples = 2500, random_state = 58963)\n",
    "\n",
    "# Resampled group dataframe\n",
    "re_games_WRD = pd.concat([re_Lose, re_Win, re_Draw])\n",
    "re_games_WRD = re_games_WRD.reset_index(drop = True)\n",
    "re_games_WRD"
   ]
  },
  {
   "cell_type": "code",
   "execution_count": 32,
   "metadata": {},
   "outputs": [
    {
     "data": {
      "image/png": "[encoded data removed]",
      "text/plain": [
       "<Figure size 360x360 with 1 Axes>"
      ]
     },
     "metadata": {
      "needs_background": "light"
     },
     "output_type": "display_data"
    }
   ],
   "source": [
    "sns.catplot(data = re_games_WRD, x = 'Result', y = 'WhiteRatingDiff', kind = 'violin')\n",
    "plt.title('Boxplot: RatingDiff')\n",
    "plt.savefig('graphs/rating_diff_catplot.pdf', bbox_inches = 'tight')"
   ]
  },
  {
   "cell_type": "code",
   "execution_count": 33,
   "metadata": {},
   "outputs": [
    {
     "name": "stdout",
     "output_type": "stream",
     "text": [
      "F statistic = 808.9777309987919\n",
      "p-value = 7.5145e-319\n",
      "The null hypothesis is rejected.\n"
     ]
    }
   ],
   "source": [
    "# Grouping\n",
    "groups = re_games_WRD.groupby('Result').groups\n",
    "Lose = re_games_WRD['WhiteRatingDiff'][groups['Lose']]\n",
    "Win = re_games_WRD['WhiteRatingDiff'][groups['Win']]\n",
    "Draw = re_games_WRD['WhiteRatingDiff'][groups['Draw']]\n",
    "\n",
    "#log transformation\n",
    "Lose_log = np.log(Lose + 334)\n",
    "Win_log = np.log(Win + 334)\n",
    "Draw_log = np.log(Draw + 334)\n",
    " \n",
    "# ANOVA\n",
    "f_stat, p_value = stats.f_oneway(Lose_log, Win_log, Draw_log)\n",
    "print('F statistic = {}'.format(f_stat))\n",
    "print('p-value = {}'.format(p_value))\n",
    "if p_value < alpha:\n",
    "    print('The null hypothesis is rejected.')\n",
    "else:\n",
    "    print('The null hypothesis is not rejected.')"
   ]
  },
  {
   "cell_type": "markdown",
   "metadata": {},
   "source": [
    "## A/B test: Does color matter? (Binomial test)"
   ]
  },
  {
   "cell_type": "code",
   "execution_count": 34,
   "metadata": {},
   "outputs": [
    {
     "data": {
      "text/html": [
       "<div>\n",
       "<style scoped>\n",
       "    .dataframe tbody tr th:only-of-type {\n",
       "        vertical-align: middle;\n",
       "    }\n",
       "\n",
       "    .dataframe tbody tr th {\n",
       "        vertical-align: top;\n",
       "    }\n",
       "\n",
       "    .dataframe thead th {\n",
       "        text-align: right;\n",
       "    }\n",
       "</style>\n",
       "<table border=\"1\" class=\"dataframe\">\n",
       "  <thead>\n",
       "    <tr style=\"text-align: right;\">\n",
       "      <th></th>\n",
       "      <th>Result</th>\n",
       "    </tr>\n",
       "  </thead>\n",
       "  <tbody>\n",
       "    <tr>\n",
       "      <th>0</th>\n",
       "      <td>Lose</td>\n",
       "    </tr>\n",
       "    <tr>\n",
       "      <th>1</th>\n",
       "      <td>Lose</td>\n",
       "    </tr>\n",
       "    <tr>\n",
       "      <th>2</th>\n",
       "      <td>Win</td>\n",
       "    </tr>\n",
       "    <tr>\n",
       "      <th>3</th>\n",
       "      <td>Lose</td>\n",
       "    </tr>\n",
       "    <tr>\n",
       "      <th>4</th>\n",
       "      <td>Win</td>\n",
       "    </tr>\n",
       "    <tr>\n",
       "      <th>...</th>\n",
       "      <td>...</td>\n",
       "    </tr>\n",
       "    <tr>\n",
       "      <th>199995</th>\n",
       "      <td>Lose</td>\n",
       "    </tr>\n",
       "    <tr>\n",
       "      <th>199996</th>\n",
       "      <td>Win</td>\n",
       "    </tr>\n",
       "    <tr>\n",
       "      <th>199997</th>\n",
       "      <td>Win</td>\n",
       "    </tr>\n",
       "    <tr>\n",
       "      <th>199998</th>\n",
       "      <td>Lose</td>\n",
       "    </tr>\n",
       "    <tr>\n",
       "      <th>199999</th>\n",
       "      <td>Lose</td>\n",
       "    </tr>\n",
       "  </tbody>\n",
       "</table>\n",
       "<p>200000 rows × 1 columns</p>\n",
       "</div>"
      ],
      "text/plain": [
       "       Result\n",
       "0        Lose\n",
       "1        Lose\n",
       "2         Win\n",
       "3        Lose\n",
       "4         Win\n",
       "...       ...\n",
       "199995   Lose\n",
       "199996    Win\n",
       "199997    Win\n",
       "199998   Lose\n",
       "199999   Lose\n",
       "\n",
       "[200000 rows x 1 columns]"
      ]
     },
     "execution_count": 34,
     "metadata": {},
     "output_type": "execute_result"
    }
   ],
   "source": [
    "from scipy.stats import binom_test\n",
    "\n",
    "games_bin = pd.DataFrame(games_df['Result'].replace({ 'Draw': np.NAN }))\n",
    "games_bin"
   ]
  },
  {
   "cell_type": "code",
   "execution_count": 35,
   "metadata": {},
   "outputs": [
    {
     "data": {
      "text/html": [
       "<div>\n",
       "<style scoped>\n",
       "    .dataframe tbody tr th:only-of-type {\n",
       "        vertical-align: middle;\n",
       "    }\n",
       "\n",
       "    .dataframe tbody tr th {\n",
       "        vertical-align: top;\n",
       "    }\n",
       "\n",
       "    .dataframe thead th {\n",
       "        text-align: right;\n",
       "    }\n",
       "</style>\n",
       "<table border=\"1\" class=\"dataframe\">\n",
       "  <thead>\n",
       "    <tr style=\"text-align: right;\">\n",
       "      <th></th>\n",
       "      <th>0</th>\n",
       "    </tr>\n",
       "    <tr>\n",
       "      <th>Result</th>\n",
       "      <th></th>\n",
       "    </tr>\n",
       "  </thead>\n",
       "  <tbody>\n",
       "    <tr>\n",
       "      <th>Win</th>\n",
       "      <td>75515</td>\n",
       "    </tr>\n",
       "    <tr>\n",
       "      <th>Lose</th>\n",
       "      <td>70689</td>\n",
       "    </tr>\n",
       "  </tbody>\n",
       "</table>\n",
       "</div>"
      ],
      "text/plain": [
       "            0\n",
       "Result       \n",
       "Win     75515\n",
       "Lose    70689"
      ]
     },
     "execution_count": 35,
     "metadata": {},
     "output_type": "execute_result"
    }
   ],
   "source": [
    "# Resampling\n",
    "n_samples = 150000\n",
    "resample_bin = resample(games_bin['Result'], replace = True, n_samples = n_samples, random_state = 60785)\n",
    "\n",
    "# Resampled dataframe\n",
    "re_games_bin = resample_bin.reset_index(drop = True)\n",
    "re_games_bin = pd.DataFrame(re_games_bin)\n",
    "re_games_bin_count = re_games_bin.value_counts()\n",
    "re_games_bin_count = pd.DataFrame(re_games_bin_count)\n",
    "victories = re_games_bin_count.iloc[['0']]\n",
    "re_games_bin_count"
   ]
  },
  {
   "cell_type": "code",
   "execution_count": 36,
   "metadata": {},
   "outputs": [
    {
     "data": {
      "image/png": "[encoded data removed]",
      "text/plain": [
       "<Figure size 432x288 with 1 Axes>"
      ]
     },
     "metadata": {
      "needs_background": "light"
     },
     "output_type": "display_data"
    }
   ],
   "source": [
    "sns.histplot(re_games_bin['Result'], stat = 'density',color = 'orange')\n",
    "plt.title('Counts: Win/Lose distribution')\n",
    "plt.savefig('graphs/distribution_winlose.pdf', bbox_inches = 'tight')"
   ]
  },
  {
   "cell_type": "code",
   "execution_count": 37,
   "metadata": {},
   "outputs": [
    {
     "name": "stdout",
     "output_type": "stream",
     "text": [
      "p-value = [0.00394343]\n",
      "The null hypothesis is rejected.\n"
     ]
    }
   ],
   "source": [
    "# Binomial test\n",
    "p_value = stats.binom_test(x = victories , n=n_samples, p = 1/2, alternative= 'greater')\n",
    "print('p-value = {}'.format(p_value))\n",
    "if p_value < alpha:\n",
    "    print('The null hypothesis is rejected.')\n",
    "else:\n",
    "    print('The null hypothesis is not rejected.')"
   ]
  }
 ],
 "metadata": {
  "kernelspec": {
   "display_name": "Python 3.10.4 64-bit",
   "language": "python",
   "name": "python3"
  },
  "language_info": {
   "codemirror_mode": {
    "name": "ipython",
    "version": 3
   },
   "file_extension": ".py",
   "mimetype": "text/x-python",
   "name": "python",
   "nbconvert_exporter": "python",
   "pygments_lexer": "ipython3",
   "version": "3.10.4"
  },
  "orig_nbformat": 4,
  "vscode": {
   "interpreter": {
    "hash": "916dbcbb3f70747c44a77c7bcd40155683ae19c65e1c03b4aa3499c5328201f1"
   }
  }
 },
 "nbformat": 4,
 "nbformat_minor": 2
}
