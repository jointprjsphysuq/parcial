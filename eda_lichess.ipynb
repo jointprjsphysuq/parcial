{
 "cells": [
  {
   "cell_type": "markdown",
   "metadata": {},
   "source": [
    "# Exploratory Data Analysis: Lichess database\n",
    "\n",
    "This jupyter notebook contains an exploratory data analysis done over a chess database with information from 200k games. Each game (the rows of the data frame) contains categorical variates, such as the type of opening, and numerical variates, such as the elo of each player.\n",
    "\n",
    "(Tentative) The main objective of this EDA was to determine regularities in the playstyle and how these changed when variates, such as elo, changed. Furthermore, the analysis includes general statistics calculations including location, scale, and shape parameters (mean value, variance, skewness, and kurtosis) which helped draw conclusions from a set of hypothesis tests.\n",
    "\n",
    "### Remarks\n",
    "\n",
    "1. In general, the notebook has the following structure: \n",
    "\n",
    "2. Each code cell includes hashed text explaining briefly what the code is supposed to be doing. Additional commentary is contained in the markdown cells.\n",
    "\n",
    "3. All the required libraries are included in the first code cell, namely the preamble of the notebook. Exceptions include particular ```scipy``` submodules used for miscellaneous statistics calculations.\n",
    "\n",
    "4. Recurrent code is included in the ```functions.py``` module.\n",
    "\n",
    "5. All the pertinent references are in the ```README.md``` file.\n",
    "\n",
    "6. **All the graphs** contained in this notebook are saved in the ```graphs``` directory.\n",
    "\n",
    "### Hypothesis Tests\n",
    "\n",
    "#### A/B\n",
    "\n",
    "#### ANOVA"
   ]
  },
  {
   "cell_type": "code",
   "execution_count": null,
   "metadata": {},
   "outputs": [],
   "source": [
    "#Preamble\n",
    "import numpy as np\n",
    "import matplotlib.pyplot as plt\n",
    "import seaborn as sns\n",
    "import pandas as pd\n",
    "import functions as f"
   ]
  },
  {
   "cell_type": "code",
   "execution_count": 3,
   "metadata": {},
   "outputs": [
    {
     "name": "stderr",
     "output_type": "stream",
     "text": [
      "/tmp/ipykernel_46989/2263780526.py:2: DtypeWarning: Columns (19,20,186,187,188,189,190,191,192,193,194,195,196,197,198,199,200,201,202,203,204,205,206,207,208,209,210,211,212,213,214,215,216,217,218,219,220,223,224,225,226,227,228,229,230,231,232,233,234,235,236,237,238,239,240,241,243,244,367,368,369,370,371,372,373,374,375,376,377,378,379,380,381,382,383,384,385,386,387,388,389,390,391,392,393,394,395,396,397,398,399,400,401,402,403,404,405,406,407,408,409,410,411,412,413,414,415,416,417,418,419,420,586,587,588,589,590,591,592,593,594,595,596,597,598,599,600,601,602,603,604,605,606,607,608,609,610,611,612,613,614,615,616,617,618,619,620) have mixed types. Specify dtype option on import or set low_memory=False.\n",
      "  games_df = pd.read_csv('games.csv')\n"
     ]
    }
   ],
   "source": [
    "#reading database\n",
    "games_df = pd.read_csv('games.csv')"
   ]
  },
  {
   "cell_type": "code",
   "execution_count": 4,
   "metadata": {},
   "outputs": [],
   "source": [
    "rank = []\n",
    "avg_elo = (games_df['WhiteElo'] + games_df['BlackElo'])/2\n",
    "for elo in avg_elo:\n",
    "    if elo >= 2000:\n",
    "        rank.append('Very High Elo')\n",
    "    elif elo >= 1800:\n",
    "        rank.append('High Elo')\n",
    "    elif elo >= 1400:\n",
    "        rank.append('Mid Elo')\n",
    "    else:\n",
    "        rank.append('Low Elo')\n",
    "\n",
    "rank = np.asarray(rank)\n",
    "\n",
    "games_df['Elo Tier'] = rank"
   ]
  },
  {
   "cell_type": "code",
   "execution_count": 7,
   "metadata": {},
   "outputs": [
    {
     "data": {
      "image/png": "[encoded data removed]",
      "text/plain": [
       "<Figure size 432x288 with 1 Axes>"
      ]
     },
     "metadata": {
      "needs_background": "light"
     },
     "output_type": "display_data"
    }
   ],
   "source": [
    "elo_tier_histplot = sns.histplot(games_df, x = 'Elo Tier')\n",
    "fig = elo_tier_histplot.get_figure()\n",
    "fig.savefig('graphs/elo_tier_histplot.pdf')"
   ]
  }
 ],
 "metadata": {
  "kernelspec": {
   "display_name": "Python 3.10.6 64-bit",
   "language": "python",
   "name": "python3"
  },
  "language_info": {
   "codemirror_mode": {
    "name": "ipython",
    "version": 3
   },
   "file_extension": ".py",
   "mimetype": "text/x-python",
   "name": "python",
   "nbconvert_exporter": "python",
   "pygments_lexer": "ipython3",
   "version": "3.10.6"
  },
  "orig_nbformat": 4,
  "vscode": {
   "interpreter": {
    "hash": "2bb284e97d82c05bc191848e0da6271f736975985dccddd69140a42e2a01b384"
   }
  }
 },
 "nbformat": 4,
 "nbformat_minor": 2
}
