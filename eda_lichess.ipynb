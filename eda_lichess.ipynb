{
 "cells": [
  {
   "cell_type": "markdown",
   "metadata": {},
   "source": [
    "# Exploratory Data Analysis: Lichess database\n",
    "\n",
    "This jupyter notebook contains an exploratory data analysis done over a chess database with information from 200k games. Each game (the rows of the data frame) contains categorical variates, such as the type of opening (ECO), and numerical variates, such as the elo of each player.\n",
    "\n",
    "(Tentative) The main objective of this EDA was to determine regularities in the playstyle and how these changed when variates, such as elo, changed. Furthermore, the analysis includes general statistics calculations including location, scale, and shape parameters (mean value, variance, skewness, and kurtosis) which helped draw conclusions from a set of hypothesis tests.\n",
    "\n",
    "### Remarks\n",
    "\n",
    "1. In general, the notebook has the following structure: markdown cell --> code cells. \n",
    "\n",
    "2. Each code cell includes hashed text explaining briefly what the code is supposed to be doing. Additional commentary is contained in the markdown cells.\n",
    "\n",
    "3. All the required libraries are included in the first code cell, namely the preamble of the notebook. Exceptions include particular ```scipy``` submodules used for miscellaneous statistics calculations.\n",
    "\n",
    "4. Recurrent code is included in the ```functions.py``` module.\n",
    "\n",
    "5. All the pertinent references are in the ```README.md``` file.\n",
    "\n",
    "6. **All the graphs** contained in this notebook are saved in the ```graphs``` directory.\n",
    "\n",
    "7. The dataset is available in the github repository as ```modified_dataset```."
   ]
  },
  {
   "cell_type": "code",
   "execution_count": 1,
   "metadata": {},
   "outputs": [],
   "source": [
    "# Preamble\n",
    "import numpy as np\n",
    "import matplotlib.pyplot as plt\n",
    "import seaborn as sns\n",
    "import pandas as pd\n",
    "import functions as f"
   ]
  },
  {
   "cell_type": "code",
   "execution_count": 2,
   "metadata": {},
   "outputs": [
    {
     "data": {
      "text/html": [
       "<div>\n",
       "<style scoped>\n",
       "    .dataframe tbody tr th:only-of-type {\n",
       "        vertical-align: middle;\n",
       "    }\n",
       "\n",
       "    .dataframe tbody tr th {\n",
       "        vertical-align: top;\n",
       "    }\n",
       "\n",
       "    .dataframe thead th {\n",
       "        text-align: right;\n",
       "    }\n",
       "</style>\n",
       "<table border=\"1\" class=\"dataframe\">\n",
       "  <thead>\n",
       "    <tr style=\"text-align: right;\">\n",
       "      <th></th>\n",
       "      <th>BlackElo</th>\n",
       "      <th>BlackRatingDiff</th>\n",
       "      <th>Date</th>\n",
       "      <th>ECO</th>\n",
       "      <th>Result</th>\n",
       "      <th>Termination</th>\n",
       "      <th>UTCTime</th>\n",
       "      <th>WhiteElo</th>\n",
       "      <th>WhiteRatingDiff</th>\n",
       "      <th>BlackTitle</th>\n",
       "      <th>WhiteTitle</th>\n",
       "      <th>Category</th>\n",
       "      <th>Weekday</th>\n",
       "      <th>Movements</th>\n",
       "    </tr>\n",
       "  </thead>\n",
       "  <tbody>\n",
       "    <tr>\n",
       "      <th>0</th>\n",
       "      <td>906</td>\n",
       "      <td>13.0</td>\n",
       "      <td>2019.04.30</td>\n",
       "      <td>B15</td>\n",
       "      <td>0-1</td>\n",
       "      <td>Normal</td>\n",
       "      <td>22:00:24</td>\n",
       "      <td>971</td>\n",
       "      <td>-12.0</td>\n",
       "      <td>NaN</td>\n",
       "      <td>NaN</td>\n",
       "      <td>Blitz</td>\n",
       "      <td>Tuesday</td>\n",
       "      <td>73</td>\n",
       "    </tr>\n",
       "    <tr>\n",
       "      <th>1</th>\n",
       "      <td>1296</td>\n",
       "      <td>28.0</td>\n",
       "      <td>2019.04.30</td>\n",
       "      <td>C50</td>\n",
       "      <td>0-1</td>\n",
       "      <td>Normal</td>\n",
       "      <td>22:00:13</td>\n",
       "      <td>1312</td>\n",
       "      <td>-10.0</td>\n",
       "      <td>NaN</td>\n",
       "      <td>NaN</td>\n",
       "      <td>Blitz</td>\n",
       "      <td>Tuesday</td>\n",
       "      <td>67</td>\n",
       "    </tr>\n",
       "    <tr>\n",
       "      <th>2</th>\n",
       "      <td>1761</td>\n",
       "      <td>-13.0</td>\n",
       "      <td>2019.04.30</td>\n",
       "      <td>C41</td>\n",
       "      <td>1-0</td>\n",
       "      <td>Normal</td>\n",
       "      <td>22:00:41</td>\n",
       "      <td>1653</td>\n",
       "      <td>27.0</td>\n",
       "      <td>NaN</td>\n",
       "      <td>NaN</td>\n",
       "      <td>Rapid</td>\n",
       "      <td>Tuesday</td>\n",
       "      <td>71</td>\n",
       "    </tr>\n",
       "    <tr>\n",
       "      <th>3</th>\n",
       "      <td>2404</td>\n",
       "      <td>8.0</td>\n",
       "      <td>2019.04.30</td>\n",
       "      <td>B06</td>\n",
       "      <td>0-1</td>\n",
       "      <td>Normal</td>\n",
       "      <td>22:00:43</td>\n",
       "      <td>2324</td>\n",
       "      <td>-8.0</td>\n",
       "      <td>NaN</td>\n",
       "      <td>FM</td>\n",
       "      <td>Bullet</td>\n",
       "      <td>Tuesday</td>\n",
       "      <td>85</td>\n",
       "    </tr>\n",
       "    <tr>\n",
       "      <th>4</th>\n",
       "      <td>1595</td>\n",
       "      <td>-10.0</td>\n",
       "      <td>2019.04.30</td>\n",
       "      <td>B32</td>\n",
       "      <td>1-0</td>\n",
       "      <td>Normal</td>\n",
       "      <td>22:00:46</td>\n",
       "      <td>1614</td>\n",
       "      <td>29.0</td>\n",
       "      <td>NaN</td>\n",
       "      <td>NaN</td>\n",
       "      <td>Blitz</td>\n",
       "      <td>Tuesday</td>\n",
       "      <td>71</td>\n",
       "    </tr>\n",
       "    <tr>\n",
       "      <th>...</th>\n",
       "      <td>...</td>\n",
       "      <td>...</td>\n",
       "      <td>...</td>\n",
       "      <td>...</td>\n",
       "      <td>...</td>\n",
       "      <td>...</td>\n",
       "      <td>...</td>\n",
       "      <td>...</td>\n",
       "      <td>...</td>\n",
       "      <td>...</td>\n",
       "      <td>...</td>\n",
       "      <td>...</td>\n",
       "      <td>...</td>\n",
       "      <td>...</td>\n",
       "    </tr>\n",
       "    <tr>\n",
       "      <th>199995</th>\n",
       "      <td>1491</td>\n",
       "      <td>10.0</td>\n",
       "      <td>2019.05.22</td>\n",
       "      <td>B00</td>\n",
       "      <td>0-1</td>\n",
       "      <td>Normal</td>\n",
       "      <td>21:17:00</td>\n",
       "      <td>1456</td>\n",
       "      <td>-9.0</td>\n",
       "      <td>NaN</td>\n",
       "      <td>NaN</td>\n",
       "      <td>Rapid</td>\n",
       "      <td>Wednesday</td>\n",
       "      <td>30</td>\n",
       "    </tr>\n",
       "    <tr>\n",
       "      <th>199996</th>\n",
       "      <td>1549</td>\n",
       "      <td>-10.0</td>\n",
       "      <td>2019.05.22</td>\n",
       "      <td>C21</td>\n",
       "      <td>1-0</td>\n",
       "      <td>Time forfeit</td>\n",
       "      <td>21:17:09</td>\n",
       "      <td>1575</td>\n",
       "      <td>25.0</td>\n",
       "      <td>NaN</td>\n",
       "      <td>NaN</td>\n",
       "      <td>Classical</td>\n",
       "      <td>Wednesday</td>\n",
       "      <td>59</td>\n",
       "    </tr>\n",
       "    <tr>\n",
       "      <th>199997</th>\n",
       "      <td>1450</td>\n",
       "      <td>-11.0</td>\n",
       "      <td>2019.05.22</td>\n",
       "      <td>D20</td>\n",
       "      <td>1-0</td>\n",
       "      <td>Normal</td>\n",
       "      <td>21:17:09</td>\n",
       "      <td>1439</td>\n",
       "      <td>11.0</td>\n",
       "      <td>NaN</td>\n",
       "      <td>NaN</td>\n",
       "      <td>Blitz</td>\n",
       "      <td>Wednesday</td>\n",
       "      <td>42</td>\n",
       "    </tr>\n",
       "    <tr>\n",
       "      <th>199998</th>\n",
       "      <td>1588</td>\n",
       "      <td>40.0</td>\n",
       "      <td>2019.05.22</td>\n",
       "      <td>B07</td>\n",
       "      <td>0-1</td>\n",
       "      <td>Normal</td>\n",
       "      <td>21:17:13</td>\n",
       "      <td>1753</td>\n",
       "      <td>-18.0</td>\n",
       "      <td>NaN</td>\n",
       "      <td>NaN</td>\n",
       "      <td>Bullet</td>\n",
       "      <td>Wednesday</td>\n",
       "      <td>45</td>\n",
       "    </tr>\n",
       "    <tr>\n",
       "      <th>199999</th>\n",
       "      <td>1184</td>\n",
       "      <td>8.0</td>\n",
       "      <td>2019.05.22</td>\n",
       "      <td>A40</td>\n",
       "      <td>0-1</td>\n",
       "      <td>Normal</td>\n",
       "      <td>21:17:19</td>\n",
       "      <td>1097</td>\n",
       "      <td>-8.0</td>\n",
       "      <td>NaN</td>\n",
       "      <td>NaN</td>\n",
       "      <td>Blitz</td>\n",
       "      <td>Wednesday</td>\n",
       "      <td>95</td>\n",
       "    </tr>\n",
       "  </tbody>\n",
       "</table>\n",
       "<p>200000 rows × 14 columns</p>\n",
       "</div>"
      ],
      "text/plain": [
       "        BlackElo  BlackRatingDiff        Date  ECO Result   Termination  \\\n",
       "0            906             13.0  2019.04.30  B15    0-1        Normal   \n",
       "1           1296             28.0  2019.04.30  C50    0-1        Normal   \n",
       "2           1761            -13.0  2019.04.30  C41    1-0        Normal   \n",
       "3           2404              8.0  2019.04.30  B06    0-1        Normal   \n",
       "4           1595            -10.0  2019.04.30  B32    1-0        Normal   \n",
       "...          ...              ...         ...  ...    ...           ...   \n",
       "199995      1491             10.0  2019.05.22  B00    0-1        Normal   \n",
       "199996      1549            -10.0  2019.05.22  C21    1-0  Time forfeit   \n",
       "199997      1450            -11.0  2019.05.22  D20    1-0        Normal   \n",
       "199998      1588             40.0  2019.05.22  B07    0-1        Normal   \n",
       "199999      1184              8.0  2019.05.22  A40    0-1        Normal   \n",
       "\n",
       "         UTCTime  WhiteElo  WhiteRatingDiff BlackTitle WhiteTitle   Category  \\\n",
       "0       22:00:24       971            -12.0        NaN        NaN      Blitz   \n",
       "1       22:00:13      1312            -10.0        NaN        NaN      Blitz   \n",
       "2       22:00:41      1653             27.0        NaN        NaN      Rapid   \n",
       "3       22:00:43      2324             -8.0        NaN         FM     Bullet   \n",
       "4       22:00:46      1614             29.0        NaN        NaN      Blitz   \n",
       "...          ...       ...              ...        ...        ...        ...   \n",
       "199995  21:17:00      1456             -9.0        NaN        NaN      Rapid   \n",
       "199996  21:17:09      1575             25.0        NaN        NaN  Classical   \n",
       "199997  21:17:09      1439             11.0        NaN        NaN      Blitz   \n",
       "199998  21:17:13      1753            -18.0        NaN        NaN     Bullet   \n",
       "199999  21:17:19      1097             -8.0        NaN        NaN      Blitz   \n",
       "\n",
       "          Weekday  Movements  \n",
       "0         Tuesday         73  \n",
       "1         Tuesday         67  \n",
       "2         Tuesday         71  \n",
       "3         Tuesday         85  \n",
       "4         Tuesday         71  \n",
       "...           ...        ...  \n",
       "199995  Wednesday         30  \n",
       "199996  Wednesday         59  \n",
       "199997  Wednesday         42  \n",
       "199998  Wednesday         45  \n",
       "199999  Wednesday         95  \n",
       "\n",
       "[200000 rows x 14 columns]"
      ]
     },
     "execution_count": 2,
     "metadata": {},
     "output_type": "execute_result"
    }
   ],
   "source": [
    "# Loading dataset\n",
    "games_df = pd.read_csv('modified_dataset', delimiter = ',')\n",
    "games_df.drop('index', inplace = True, axis = 1)\n",
    "games_df"
   ]
  },
  {
   "cell_type": "markdown",
   "metadata": {},
   "source": [
    "## Goodness of fit test for Elo distribution\n",
    "\n",
    "$H_0$: Average Elo data is beta distributed.\n",
    "\n",
    "$H_1$: Average Elo data deviaties from a beta distribution."
   ]
  },
  {
   "cell_type": "code",
   "execution_count": 3,
   "metadata": {},
   "outputs": [
    {
     "name": "stdout",
     "output_type": "stream",
     "text": [
      "Mean value: 1512.8657672473623\n",
      "Variance: 99536.79745296798\n",
      "Skewness: 0.27235265804532044\n",
      "Kurtosis: -0.2725759270378833\n"
     ]
    }
   ],
   "source": [
    "from scipy import stats\n",
    "from functools import partial\n",
    "from sklearn.utils import resample\n",
    "\n",
    "avg_elo = (games_df['WhiteElo'] + games_df['BlackElo'])/2 # Calculates average elo of each game\n",
    "data = avg_elo\n",
    "re_data = resample(data, replace = True, n_samples = 7500, random_state = 23490) # Resampling\n",
    "beta_param_bounds = [(4,5),(7,9),(600, 700),(2400,2500)] # Prepares bounds for the a, b, loc, and scale parameters of the beta fit.\n",
    "fit_result = stats.fit(stats.beta, re_data, beta_param_bounds) # Gives results of the fit\n",
    "a, b, loc, scale = fit_result.params \n",
    "beta_fit = stats.beta(a, b, loc, scale) # Distribution that fits the data best\n",
    "m, v , s, k = beta_fit.stats(moments = 'mvsk')\n",
    "print('Mean value: {}'.format(m))\n",
    "print('Variance: {}'.format(v))\n",
    "print('Skewness: {}'.format(s))\n",
    "print('Kurtosis: {}'.format(k))"
   ]
  },
  {
   "cell_type": "code",
   "execution_count": 4,
   "metadata": {},
   "outputs": [
    {
     "name": "stdout",
     "output_type": "stream",
     "text": [
      "Maximum function difference (KS test statistic) = 0.012431079646580023\n",
      "p value = 0.19513599666372028\n",
      "The null hypothesis is not rejected.\n"
     ]
    }
   ],
   "source": [
    "# Kolmogorov - Smirnov test\n",
    "D_stat, p_value = stats.kstest(re_data, partial(stats.beta.cdf, a = a, b = b, loc = loc, scale = scale))\n",
    "print('Maximum function difference (KS test statistic) = {}'.format(D_stat))\n",
    "print('p value = {}'.format(p_value))\n",
    "alpha = 0.05\n",
    "if p_value < alpha:\n",
    "    print('The null hypothesis is rejected.')\n",
    "else:\n",
    "    print('The null hypothesis is not rejected.')"
   ]
  },
  {
   "cell_type": "code",
   "execution_count": 5,
   "metadata": {},
   "outputs": [
    {
     "data": {
      "image/png": "[encoded data removed]",
      "text/plain": [
       "<Figure size 864x216 with 2 Axes>"
      ]
     },
     "metadata": {
      "needs_background": "light"
     },
     "output_type": "display_data"
    }
   ],
   "source": [
    "fig, axes = plt.subplots(1, 2, figsize = (12, 3)) # Definition of graphing instances\n",
    "\n",
    "x = np.linspace(0, 3000, 10000) # Graphing range\n",
    "\n",
    "pdf = beta_fit.pdf(x) # Probability density function\n",
    "cdf = beta_fit.cdf(x) # Cumulative distribution function\n",
    "\n",
    "axes[0].plot(x, pdf, color = 'r', label = 'Fit') # Graphs PDF\n",
    "sns.histplot(re_data, ax = axes[0], stat = 'density',binwidth = 50, label = 'Data') # Graphs histogram of data\n",
    "\n",
    "N = 7500 # Number of games\n",
    "sorted_data = np.sort(re_data) # Ordered data\n",
    "edf = np.arange(N) / float(N) # 'Experimental' cumulative distribution function\n",
    "\n",
    "axes[1].plot(x, cdf, color = 'r', label = 'CDF') # Graphs CDF\n",
    "axes[1].plot(sorted_data, edf, label = 'EDF') # Graphs EDF\n",
    "\n",
    "for ax in axes.flat:\n",
    "    ax.set(xlabel = 'Average Elo')\n",
    "\n",
    "axes[1].set(ylabel = 'Cumulative probability')\n",
    "plt.legend()\n",
    "fig.savefig('graphs/kstest-avg_elo', dpi = 700, format = 'pdf', bbox_inches = 'tight')"
   ]
  },
  {
   "cell_type": "code",
   "execution_count": 6,
   "metadata": {},
   "outputs": [
    {
     "data": {
      "image/png": "[encoded data removed]",
      "text/plain": [
       "<Figure size 432x288 with 1 Axes>"
      ]
     },
     "metadata": {
      "needs_background": "light"
     },
     "output_type": "display_data"
    }
   ],
   "source": [
    "# q-q graph\n",
    "qq_fig = plt.figure()\n",
    "ax = qq_fig.add_subplot(111)\n",
    "stats.probplot(re_data, dist=beta_fit, plot=ax)\n",
    "ax.set_xlabel('Average Elo')\n",
    "ax.set_title('QQ - Beta Distribution and Data')\n",
    "qq_fig.savefig('graphs/qq_avg_elo', dpi = 700, format = 'pdf', bbox_inches = 'tight')"
   ]
  },
  {
   "cell_type": "markdown",
   "metadata": {},
   "source": [
    "## Goodness of fit test for Elo distribution (Categorical)\n",
    "\n",
    "As a continuation of the previous test, a $\\chi^2$-GOF test is performed over a categorical division of elo, namely: low elo, mid elo, high elo, and very high elo. The fitted distribution is numerically integrated over the required intervals in order to obtain the expected frequencies.\n",
    "\n",
    "### Intervals\n",
    "\n",
    "- Low elo if $elo \\leq 1400$\n",
    "- Mid elo if $1400 < elo \\leq 1800$\n",
    "- High elo if $1800 < elo \\leq 2000$\n",
    "- Very high elo if $2000 < elo$"
   ]
  },
  {
   "cell_type": "code",
   "execution_count": 7,
   "metadata": {},
   "outputs": [
    {
     "data": {
      "text/html": [
       "<div>\n",
       "<style scoped>\n",
       "    .dataframe tbody tr th:only-of-type {\n",
       "        vertical-align: middle;\n",
       "    }\n",
       "\n",
       "    .dataframe tbody tr th {\n",
       "        vertical-align: top;\n",
       "    }\n",
       "\n",
       "    .dataframe thead th {\n",
       "        text-align: right;\n",
       "    }\n",
       "</style>\n",
       "<table border=\"1\" class=\"dataframe\">\n",
       "  <thead>\n",
       "    <tr style=\"text-align: right;\">\n",
       "      <th></th>\n",
       "      <th>AverageElo</th>\n",
       "      <th>EloTier</th>\n",
       "    </tr>\n",
       "  </thead>\n",
       "  <tbody>\n",
       "    <tr>\n",
       "      <th>0</th>\n",
       "      <td>1671.5</td>\n",
       "      <td>Mid elo</td>\n",
       "    </tr>\n",
       "    <tr>\n",
       "      <th>1</th>\n",
       "      <td>1909.0</td>\n",
       "      <td>High elo</td>\n",
       "    </tr>\n",
       "    <tr>\n",
       "      <th>2</th>\n",
       "      <td>1695.5</td>\n",
       "      <td>Mid elo</td>\n",
       "    </tr>\n",
       "    <tr>\n",
       "      <th>3</th>\n",
       "      <td>1202.5</td>\n",
       "      <td>Low elo</td>\n",
       "    </tr>\n",
       "    <tr>\n",
       "      <th>4</th>\n",
       "      <td>1420.0</td>\n",
       "      <td>Mid elo</td>\n",
       "    </tr>\n",
       "    <tr>\n",
       "      <th>...</th>\n",
       "      <td>...</td>\n",
       "      <td>...</td>\n",
       "    </tr>\n",
       "    <tr>\n",
       "      <th>7495</th>\n",
       "      <td>1647.0</td>\n",
       "      <td>Mid elo</td>\n",
       "    </tr>\n",
       "    <tr>\n",
       "      <th>7496</th>\n",
       "      <td>1807.5</td>\n",
       "      <td>High elo</td>\n",
       "    </tr>\n",
       "    <tr>\n",
       "      <th>7497</th>\n",
       "      <td>1117.5</td>\n",
       "      <td>Low elo</td>\n",
       "    </tr>\n",
       "    <tr>\n",
       "      <th>7498</th>\n",
       "      <td>1841.5</td>\n",
       "      <td>High elo</td>\n",
       "    </tr>\n",
       "    <tr>\n",
       "      <th>7499</th>\n",
       "      <td>2040.5</td>\n",
       "      <td>Very high elo</td>\n",
       "    </tr>\n",
       "  </tbody>\n",
       "</table>\n",
       "<p>7500 rows × 2 columns</p>\n",
       "</div>"
      ],
      "text/plain": [
       "      AverageElo        EloTier\n",
       "0         1671.5        Mid elo\n",
       "1         1909.0       High elo\n",
       "2         1695.5        Mid elo\n",
       "3         1202.5        Low elo\n",
       "4         1420.0        Mid elo\n",
       "...          ...            ...\n",
       "7495      1647.0        Mid elo\n",
       "7496      1807.5       High elo\n",
       "7497      1117.5        Low elo\n",
       "7498      1841.5       High elo\n",
       "7499      2040.5  Very high elo\n",
       "\n",
       "[7500 rows x 2 columns]"
      ]
     },
     "execution_count": 7,
     "metadata": {},
     "output_type": "execute_result"
    }
   ],
   "source": [
    "# Elo dataframe (categorical)\n",
    "elo = pd.DataFrame(avg_elo, columns = ['AverageElo'])\n",
    "elo['EloTier'] = ['Very high elo' if elo >= 2000 else 'High elo' if elo >= 1800 else \\\n",
    "    'Mid elo' if elo >= 1400 else 'Low elo' for elo in avg_elo]\n",
    "re_elo = resample(elo, replace = True, n_samples = 7500, random_state = 23490)\n",
    "re_elo = re_elo.reset_index(drop = True)\n",
    "re_elo"
   ]
  },
  {
   "cell_type": "code",
   "execution_count": 8,
   "metadata": {},
   "outputs": [
    {
     "name": "stdout",
     "output_type": "stream",
     "text": [
      "chi statistic = 0.0013033077787955167\n",
      "p value = 0.9999874910894104\n",
      "The null hypothesis is not rejected.\n"
     ]
    }
   ],
   "source": [
    "import scipy.integrate as integrate\n",
    "\n",
    "# Integration\n",
    "intervals = [(-np.inf, 1400), (1400, 1800), (1800, 2000), (2000, np.inf)]\n",
    "probabilities_exp = []\n",
    "for i in intervals:\n",
    "    probabilities_exp.append(integrate.quad(lambda x: beta_fit.pdf(x), i[0], i[1])[0])\n",
    "\n",
    "# Counts\n",
    "observed = re_elo['EloTier'].value_counts(normalize = True)\n",
    "probabilities_obs = [observed['Low elo'], observed['Mid elo'], observed['High elo'], observed['Very high elo']]\n",
    "\n",
    "# chi-squared test\n",
    "chi_stat, p_value = stats.chisquare(probabilities_obs, probabilities_exp)\n",
    "print('chi statistic = {}'.format(chi_stat))\n",
    "print('p value = {}'.format(p_value))\n",
    "alpha = 0.05\n",
    "if p_value < alpha:\n",
    "    print('The null hypothesis is rejected.')\n",
    "else:\n",
    "    print('The null hypothesis is not rejected.')"
   ]
  },
  {
   "cell_type": "code",
   "execution_count": 9,
   "metadata": {},
   "outputs": [
    {
     "data": {
      "text/plain": [
       "[0.38447732572818877,\n",
       " 0.4278093634514493,\n",
       " 0.1161592121154271,\n",
       " 0.07155409885732625]"
      ]
     },
     "execution_count": 9,
     "metadata": {},
     "output_type": "execute_result"
    }
   ],
   "source": [
    "probabilities_exp"
   ]
  },
  {
   "cell_type": "markdown",
   "metadata": {},
   "source": [
    "## ANOVA test: Number of moves and opening\n",
    "\n",
    "Each game is grouped in one of five categories according to the first letter of ECO.\n",
    "\n",
    "$H_0$: The mean number of moves for each of the groups is the same.\n",
    "\n",
    "$H_1$: At least one group has a different mean number of moves."
   ]
  },
  {
   "cell_type": "code",
   "execution_count": 10,
   "metadata": {},
   "outputs": [
    {
     "data": {
      "text/plain": [
       "ECO  Movements\n",
       "C    44           1345\n",
       "     52           1331\n",
       "     47           1330\n",
       "     46           1324\n",
       "     50           1322\n",
       "                  ... \n",
       "E    153             1\n",
       "     154             1\n",
       "C    198             1\n",
       "D    196             1\n",
       "E    19              1\n",
       "Length: 955, dtype: int64"
      ]
     },
     "execution_count": 10,
     "metadata": {},
     "output_type": "execute_result"
    },
    {
     "data": {
      "image/png": "[encoded data removed]",
      "text/plain": [
       "<Figure size 432x288 with 1 Axes>"
      ]
     },
     "metadata": {
      "needs_background": "light"
     },
     "output_type": "display_data"
    }
   ],
   "source": [
    "# Creating group dataframe and checking for imbalance\n",
    "group = pd.DataFrame(games_df['ECO'].str[0])\n",
    "group['Movements'] = games_df['Movements']\n",
    "group['ECO'].value_counts().plot.bar()\n",
    "group.value_counts()"
   ]
  },
  {
   "cell_type": "markdown",
   "metadata": {},
   "source": [
    "As can be seen from the counts histogram above, the data is imbalanced. In order to correct this, the groups will be downsampled to 1500 observations each."
   ]
  },
  {
   "cell_type": "code",
   "execution_count": 11,
   "metadata": {},
   "outputs": [
    {
     "data": {
      "text/html": [
       "<div>\n",
       "<style scoped>\n",
       "    .dataframe tbody tr th:only-of-type {\n",
       "        vertical-align: middle;\n",
       "    }\n",
       "\n",
       "    .dataframe tbody tr th {\n",
       "        vertical-align: top;\n",
       "    }\n",
       "\n",
       "    .dataframe thead th {\n",
       "        text-align: right;\n",
       "    }\n",
       "</style>\n",
       "<table border=\"1\" class=\"dataframe\">\n",
       "  <thead>\n",
       "    <tr style=\"text-align: right;\">\n",
       "      <th></th>\n",
       "      <th>ECO</th>\n",
       "      <th>Movements</th>\n",
       "    </tr>\n",
       "  </thead>\n",
       "  <tbody>\n",
       "    <tr>\n",
       "      <th>0</th>\n",
       "      <td>A</td>\n",
       "      <td>62</td>\n",
       "    </tr>\n",
       "    <tr>\n",
       "      <th>1</th>\n",
       "      <td>A</td>\n",
       "      <td>65</td>\n",
       "    </tr>\n",
       "    <tr>\n",
       "      <th>2</th>\n",
       "      <td>A</td>\n",
       "      <td>48</td>\n",
       "    </tr>\n",
       "    <tr>\n",
       "      <th>3</th>\n",
       "      <td>A</td>\n",
       "      <td>43</td>\n",
       "    </tr>\n",
       "    <tr>\n",
       "      <th>4</th>\n",
       "      <td>A</td>\n",
       "      <td>43</td>\n",
       "    </tr>\n",
       "    <tr>\n",
       "      <th>...</th>\n",
       "      <td>...</td>\n",
       "      <td>...</td>\n",
       "    </tr>\n",
       "    <tr>\n",
       "      <th>7495</th>\n",
       "      <td>E</td>\n",
       "      <td>47</td>\n",
       "    </tr>\n",
       "    <tr>\n",
       "      <th>7496</th>\n",
       "      <td>E</td>\n",
       "      <td>80</td>\n",
       "    </tr>\n",
       "    <tr>\n",
       "      <th>7497</th>\n",
       "      <td>E</td>\n",
       "      <td>66</td>\n",
       "    </tr>\n",
       "    <tr>\n",
       "      <th>7498</th>\n",
       "      <td>E</td>\n",
       "      <td>95</td>\n",
       "    </tr>\n",
       "    <tr>\n",
       "      <th>7499</th>\n",
       "      <td>E</td>\n",
       "      <td>83</td>\n",
       "    </tr>\n",
       "  </tbody>\n",
       "</table>\n",
       "<p>7500 rows × 2 columns</p>\n",
       "</div>"
      ],
      "text/plain": [
       "     ECO  Movements\n",
       "0      A         62\n",
       "1      A         65\n",
       "2      A         48\n",
       "3      A         43\n",
       "4      A         43\n",
       "...   ..        ...\n",
       "7495   E         47\n",
       "7496   E         80\n",
       "7497   E         66\n",
       "7498   E         95\n",
       "7499   E         83\n",
       "\n",
       "[7500 rows x 2 columns]"
      ]
     },
     "execution_count": 11,
     "metadata": {},
     "output_type": "execute_result"
    }
   ],
   "source": [
    "# Individual dataframes for each group\n",
    "df_A = group[(group['ECO'] == 'A')]\n",
    "df_B = group[(group['ECO'] == 'B')]\n",
    "df_C = group[(group['ECO'] == 'C')]\n",
    "df_D = group[(group['ECO'] == 'D')]\n",
    "df_E = group[(group['ECO'] == 'E')]\n",
    "\n",
    "# Resampling\n",
    "re_A = resample(df_A, n_samples = 1500, random_state = 23490)\n",
    "re_B = resample(df_B, n_samples = 1500, random_state = 23490)\n",
    "re_C = resample(df_C, n_samples = 1500, random_state = 23490)\n",
    "re_D = resample(df_D, n_samples = 1500, random_state = 23490)\n",
    "re_E = resample(df_E, n_samples = 1500, random_state = 23490)\n",
    "\n",
    "# Resampled group dataframe\n",
    "re_group = pd.concat([re_A, re_B, re_C, re_D, re_E])\n",
    "re_group = re_group.reset_index(drop = True)\n",
    "re_group"
   ]
  },
  {
   "cell_type": "code",
   "execution_count": 12,
   "metadata": {},
   "outputs": [
    {
     "data": {
      "text/plain": [
       "<AxesSubplot:xlabel='Movements', ylabel='Density'>"
      ]
     },
     "execution_count": 12,
     "metadata": {},
     "output_type": "execute_result"
    },
    {
     "data": {
      "image/png": "[encoded data removed]",
      "text/plain": [
       "<Figure size 432x288 with 1 Axes>"
      ]
     },
     "metadata": {
      "needs_background": "light"
     },
     "output_type": "display_data"
    }
   ],
   "source": [
    "sns.histplot(re_group['Movements'], stat = 'density', bins = 50)"
   ]
  },
  {
   "cell_type": "code",
   "execution_count": 13,
   "metadata": {},
   "outputs": [
    {
     "name": "stdout",
     "output_type": "stream",
     "text": [
      "F statistic = 21.665848096505243\n",
      "p-value = 8.532681030482333e-18\n",
      "The null hypothesis is rejected.\n"
     ]
    }
   ],
   "source": [
    "# Grouping\n",
    "groups = re_group.groupby('ECO').groups\n",
    "A = re_group['Movements'][groups['A']]\n",
    "B = re_group['Movements'][groups['B']]\n",
    "C = re_group['Movements'][groups['C']]\n",
    "D = re_group['Movements'][groups['D']]\n",
    "E = re_group['Movements'][groups['E']]\n",
    "\n",
    "# log transformation\n",
    "A_log = np.log(A)\n",
    "B_log = np.log(B)\n",
    "C_log = np.log(C)\n",
    "D_log = np.log(D)\n",
    "E_log = np.log(E)\n",
    "\n",
    "# ANOVA\n",
    "f_stat, p_value = stats.f_oneway(A_log, B_log, C_log, D_log, E_log)\n",
    "print('F statistic = {}'.format(f_stat))\n",
    "print('p-value = {}'.format(p_value))\n",
    "if p_value < alpha:\n",
    "    print('The null hypothesis is rejected.')\n",
    "else:\n",
    "    print('The null hypothesis is not rejected.')"
   ]
  },
  {
   "cell_type": "code",
   "execution_count": 14,
   "metadata": {},
   "outputs": [
    {
     "data": {
      "text/plain": [
       "<AxesSubplot:xlabel='Movements', ylabel='Count'>"
      ]
     },
     "execution_count": 14,
     "metadata": {},
     "output_type": "execute_result"
    },
    {
     "data": {
      "image/png": "[encoded data removed]",
      "text/plain": [
       "<Figure size 432x288 with 1 Axes>"
      ]
     },
     "metadata": {
      "needs_background": "light"
     },
     "output_type": "display_data"
    }
   ],
   "source": [
    "sns.histplot(E_log, bins = 50)"
   ]
  },
  {
   "cell_type": "markdown",
   "metadata": {},
   "source": [
    "## ANOVA test: Elo and time of the day\n",
    "\n",
    "Each game is grouped in one of ??? groups according to UTCTime.\n",
    "\n",
    "$H_0$: The mean elo is the same at any time of the day.\n",
    "\n",
    "$H_1$: The mean elo is higher for a certain time of the day."
   ]
  },
  {
   "cell_type": "code",
   "execution_count": null,
   "metadata": {},
   "outputs": [],
   "source": []
  },
  {
   "cell_type": "markdown",
   "metadata": {},
   "source": [
    "## ANOVA test: Movements and type of game\n",
    "\n",
    "Each game is grouped in one of 4 types of game according to Category.\n",
    "\n",
    "$H_0$: The mean number of movements is the same for all the categories.\n",
    "\n",
    "$H_1$: At least one category has a different mean number of movements."
   ]
  },
  {
   "cell_type": "code",
   "execution_count": 15,
   "metadata": {},
   "outputs": [
    {
     "data": {
      "text/plain": [
       "Blitz        86333\n",
       "Rapid        45216\n",
       "Bullet       43253\n",
       "Classical    25198\n",
       "Name: Category, dtype: int64"
      ]
     },
     "execution_count": 15,
     "metadata": {},
     "output_type": "execute_result"
    },
    {
     "data": {
      "image/png": "[encoded data removed]",
      "text/plain": [
       "<Figure size 432x288 with 1 Axes>"
      ]
     },
     "metadata": {
      "needs_background": "light"
     },
     "output_type": "display_data"
    }
   ],
   "source": [
    "# DataFrame and imbalance\n",
    "category = games_df[['Movements', 'Category']]\n",
    "category['Category'].value_counts().plot.bar()\n",
    "category['Category'].value_counts()"
   ]
  },
  {
   "cell_type": "code",
   "execution_count": 16,
   "metadata": {},
   "outputs": [
    {
     "data": {
      "text/html": [
       "<div>\n",
       "<style scoped>\n",
       "    .dataframe tbody tr th:only-of-type {\n",
       "        vertical-align: middle;\n",
       "    }\n",
       "\n",
       "    .dataframe tbody tr th {\n",
       "        vertical-align: top;\n",
       "    }\n",
       "\n",
       "    .dataframe thead th {\n",
       "        text-align: right;\n",
       "    }\n",
       "</style>\n",
       "<table border=\"1\" class=\"dataframe\">\n",
       "  <thead>\n",
       "    <tr style=\"text-align: right;\">\n",
       "      <th></th>\n",
       "      <th>Movements</th>\n",
       "      <th>Category</th>\n",
       "    </tr>\n",
       "  </thead>\n",
       "  <tbody>\n",
       "    <tr>\n",
       "      <th>0</th>\n",
       "      <td>36</td>\n",
       "      <td>Blitz</td>\n",
       "    </tr>\n",
       "    <tr>\n",
       "      <th>1</th>\n",
       "      <td>83</td>\n",
       "      <td>Blitz</td>\n",
       "    </tr>\n",
       "    <tr>\n",
       "      <th>2</th>\n",
       "      <td>46</td>\n",
       "      <td>Blitz</td>\n",
       "    </tr>\n",
       "    <tr>\n",
       "      <th>3</th>\n",
       "      <td>70</td>\n",
       "      <td>Blitz</td>\n",
       "    </tr>\n",
       "    <tr>\n",
       "      <th>4</th>\n",
       "      <td>67</td>\n",
       "      <td>Blitz</td>\n",
       "    </tr>\n",
       "    <tr>\n",
       "      <th>...</th>\n",
       "      <td>...</td>\n",
       "      <td>...</td>\n",
       "    </tr>\n",
       "    <tr>\n",
       "      <th>7495</th>\n",
       "      <td>63</td>\n",
       "      <td>Classical</td>\n",
       "    </tr>\n",
       "    <tr>\n",
       "      <th>7496</th>\n",
       "      <td>58</td>\n",
       "      <td>Classical</td>\n",
       "    </tr>\n",
       "    <tr>\n",
       "      <th>7497</th>\n",
       "      <td>109</td>\n",
       "      <td>Classical</td>\n",
       "    </tr>\n",
       "    <tr>\n",
       "      <th>7498</th>\n",
       "      <td>56</td>\n",
       "      <td>Classical</td>\n",
       "    </tr>\n",
       "    <tr>\n",
       "      <th>7499</th>\n",
       "      <td>66</td>\n",
       "      <td>Classical</td>\n",
       "    </tr>\n",
       "  </tbody>\n",
       "</table>\n",
       "<p>7500 rows × 2 columns</p>\n",
       "</div>"
      ],
      "text/plain": [
       "      Movements   Category\n",
       "0            36      Blitz\n",
       "1            83      Blitz\n",
       "2            46      Blitz\n",
       "3            70      Blitz\n",
       "4            67      Blitz\n",
       "...         ...        ...\n",
       "7495         63  Classical\n",
       "7496         58  Classical\n",
       "7497        109  Classical\n",
       "7498         56  Classical\n",
       "7499         66  Classical\n",
       "\n",
       "[7500 rows x 2 columns]"
      ]
     },
     "execution_count": 16,
     "metadata": {},
     "output_type": "execute_result"
    }
   ],
   "source": [
    "# Individual dataframes for each group\n",
    "df_blitz = category[(category['Category'] == 'Blitz')]\n",
    "df_rapid = category[(category['Category'] == 'Rapid')]\n",
    "df_bullet = category[(category['Category'] == 'Bullet')]\n",
    "df_classical = category[(category['Category'] == 'Classical')]\n",
    "\n",
    "# Resampling\n",
    "re_blitz = resample(df_blitz, n_samples = 1875, random_state = 23490)\n",
    "re_rapid = resample(df_rapid, n_samples = 1875, random_state = 23490)\n",
    "re_bullet = resample(df_bullet, n_samples = 1875, random_state = 23490)\n",
    "re_classical = resample(df_classical, n_samples = 1875, random_state = 23490)\n",
    "\n",
    "# Resampled group dataframe\n",
    "re_category = pd.concat([re_blitz, re_rapid, re_bullet, re_classical])\n",
    "re_category = re_category.reset_index(drop = True)\n",
    "re_category"
   ]
  },
  {
   "cell_type": "code",
   "execution_count": 17,
   "metadata": {},
   "outputs": [
    {
     "name": "stdout",
     "output_type": "stream",
     "text": [
      "F statistic = 7.779036975023016\n",
      "p-value = 3.4926029268274264e-05\n",
      "The null hypothesis is rejected.\n"
     ]
    }
   ],
   "source": [
    "# Grouping\n",
    "categories = re_category.groupby('Category').groups\n",
    "blitz = re_category['Movements'][categories['Blitz']]\n",
    "rapid = re_category['Movements'][categories['Rapid']]\n",
    "bullet = re_category['Movements'][categories['Bullet']]\n",
    "classical = re_category['Movements'][categories['Classical']]\n",
    "\n",
    "# log transformation\n",
    "blitz_log = np.log(blitz)\n",
    "rapid_log = np.log(rapid)\n",
    "bullet_log = np.log(bullet)\n",
    "classical_log = np.log(classical)\n",
    "\n",
    "# ANOVA\n",
    "f_stat, p_value = stats.f_oneway(blitz_log, rapid_log, bullet_log, classical_log)\n",
    "print('F statistic = {}'.format(f_stat))\n",
    "print('p-value = {}'.format(p_value))\n",
    "if p_value < alpha:\n",
    "    print('The null hypothesis is rejected.')\n",
    "else:\n",
    "    print('The null hypothesis is not rejected.')"
   ]
  },
  {
   "cell_type": "code",
   "execution_count": 18,
   "metadata": {},
   "outputs": [
    {
     "data": {
      "text/plain": [
       "<AxesSubplot:xlabel='Movements', ylabel='Count'>"
      ]
     },
     "execution_count": 18,
     "metadata": {},
     "output_type": "execute_result"
    },
    {
     "data": {
      "image/png": "[encoded data removed]",
      "text/plain": [
       "<Figure size 432x288 with 1 Axes>"
      ]
     },
     "metadata": {
      "needs_background": "light"
     },
     "output_type": "display_data"
    }
   ],
   "source": [
    "sns.histplot(rapid_log, bins = 50)"
   ]
  },
  {
   "cell_type": "markdown",
   "metadata": {},
   "source": [
    "## Statistical independence: Elo range and Opening\n",
    "\n",
    "A $\\chi ^ 2$-test is used to determine if the categorical variates EloTier and ECO are statistically independent.\n",
    "\n",
    "$H_0$: The variates are independent.\n",
    "\n",
    "$H_1$: The variates are dependent."
   ]
  },
  {
   "cell_type": "code",
   "execution_count": 19,
   "metadata": {},
   "outputs": [
    {
     "name": "stdout",
     "output_type": "stream",
     "text": [
      "EloTier  High elo  Low elo  Mid elo  Very high elo\n",
      "ECO                                               \n",
      "A             373      297      346            464\n",
      "B             492      348      427            502\n",
      "C             340      594      513            263\n",
      "D             237      246      183            198\n",
      "E              58       15       31             73\n"
     ]
    }
   ],
   "source": [
    "group['EloTier'] = elo['EloTier']\n",
    "elo_op = group.drop('Movements', axis = 1)\n",
    "\n",
    "# Individual dataframes for each group\n",
    "df_low = elo_op[(elo_op['EloTier'] == 'Low elo')]\n",
    "df_mid = elo_op[(elo_op['EloTier'] == 'Mid elo')]\n",
    "df_high = elo_op[(elo_op['EloTier'] == 'High elo')]\n",
    "df_vhigh = elo_op[(elo_op['EloTier'] == 'Very high elo')]\n",
    "\n",
    "# Resampling\n",
    "re_low = resample(df_low, n_samples = 1500, random_state = 23490)\n",
    "re_mid = resample(df_mid, n_samples = 1500, random_state = 23490)\n",
    "re_high = resample(df_high, n_samples = 1500, random_state = 23490)\n",
    "re_vhigh = resample(df_vhigh, n_samples = 1500, random_state = 23490)\n",
    "\n",
    "# Resampled dataframe\n",
    "re_elo_op = pd.concat([re_low, re_mid, re_high, re_vhigh])\n",
    "re_elo_op = re_elo_op.reset_index(drop = True)\n",
    "\n",
    "# Contingency table\n",
    "ct_ind = pd.crosstab(re_elo_op['ECO'], re_elo_op['EloTier'])\n",
    "print(ct_ind)"
   ]
  },
  {
   "cell_type": "code",
   "execution_count": 20,
   "metadata": {},
   "outputs": [
    {
     "name": "stdout",
     "output_type": "stream",
     "text": [
      "chi2 statistic = 296.3056073976459\n",
      "p-value = 2.8004547989071422e-56\n",
      "# degrees of freedom = 12\n",
      "The null hypothesis is rejected.\n"
     ]
    }
   ],
   "source": [
    "chi2_stat, p_value, dof, expected = stats.chi2_contingency(ct_ind)\n",
    "print('chi2 statistic = {}'.format(chi2_stat))\n",
    "print('p-value = {}'.format(p_value))\n",
    "print('# degrees of freedom = {}'.format(dof))\n",
    "\n",
    "if p_value < alpha:\n",
    "    print('The null hypothesis is rejected.')\n",
    "else:\n",
    "    print('The null hypothesis is not rejected.')"
   ]
  },
  {
   "cell_type": "markdown",
   "metadata": {},
   "source": [
    "## ANOVA test: Win rate and Elo range\n",
    "\n",
    "Each game is classified in one of 4 tiers of elo according to the mean elo between black and white: low elo, mid elo, high elo, very high elo.\n",
    "\n",
    "$H_0$: The mean win rate is the same for each elo tier.\n",
    "\n",
    "$H_1$: The mean win rate of at least one tier is different."
   ]
  },
  {
   "cell_type": "code",
   "execution_count": null,
   "metadata": {},
   "outputs": [],
   "source": []
  },
  {
   "cell_type": "markdown",
   "metadata": {},
   "source": [
    "## Is there correlation between Termination and RatingDiff?"
   ]
  },
  {
   "cell_type": "code",
   "execution_count": null,
   "metadata": {},
   "outputs": [],
   "source": []
  },
  {
   "cell_type": "markdown",
   "metadata": {},
   "source": [
    "## Is there correlation between Result and RatingDiff?"
   ]
  },
  {
   "cell_type": "code",
   "execution_count": null,
   "metadata": {},
   "outputs": [],
   "source": []
  }
 ],
 "metadata": {
  "kernelspec": {
   "display_name": "Python 3.10.4 64-bit",
   "language": "python",
   "name": "python3"
  },
  "language_info": {
   "codemirror_mode": {
    "name": "ipython",
    "version": 3
   },
   "file_extension": ".py",
   "mimetype": "text/x-python",
   "name": "python",
   "nbconvert_exporter": "python",
   "pygments_lexer": "ipython3",
   "version": "3.10.4"
  },
  "orig_nbformat": 4,
  "vscode": {
   "interpreter": {
    "hash": "916dbcbb3f70747c44a77c7bcd40155683ae19c65e1c03b4aa3499c5328201f1"
   }
  }
 },
 "nbformat": 4,
 "nbformat_minor": 2
}
