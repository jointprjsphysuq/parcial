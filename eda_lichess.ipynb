{
 "cells": [
  {
   "cell_type": "markdown",
   "metadata": {},
   "source": [
    "# Exploratory Data Analysis: Lichess database\n",
    "\n",
    "This jupyter notebook contains an exploratory data analysis done over a chess database with information from 200k games. Each game (the rows of the data frame) contains categorical variates, such as the type of opening (ECO), and numerical variates, such as the elo of each player.\n",
    "\n",
    "(Tentative) The main objective of this EDA was to determine regularities in the playstyle and how these changed when variates, such as elo, changed. Furthermore, the analysis includes general statistics calculations including location, scale, and shape parameters (mean value, variance, skewness, and kurtosis) which helped draw conclusions from a set of hypothesis tests.\n",
    "\n",
    "### Remarks\n",
    "\n",
    "1. In general, the notebook has the following structure: markdown cell --> code cells. \n",
    "\n",
    "2. Each code cell includes hashed text explaining briefly what the code is supposed to be doing. Additional commentary is contained in the markdown cells.\n",
    "\n",
    "3. All the required libraries are included in the first code cell, namely the preamble of the notebook. Exceptions include particular ```scipy``` submodules used for miscellaneous statistics calculations.\n",
    "\n",
    "4. Recurrent code is included in the ```functions.py``` module.\n",
    "\n",
    "5. All the pertinent references are in the ```README.md``` file.\n",
    "\n",
    "6. **All the graphs** contained in this notebook are saved in the ```graphs``` directory.\n",
    "\n",
    "7. The dataset is available in the github repository as ```modified_dataset```."
   ]
  },
  {
   "cell_type": "code",
   "execution_count": 1,
   "metadata": {},
   "outputs": [],
   "source": [
    "# Preamble\n",
    "import numpy as np\n",
    "import matplotlib.pyplot as plt\n",
    "import seaborn as sns\n",
    "import pandas as pd\n",
    "import functions as f"
   ]
  },
  {
   "cell_type": "code",
   "execution_count": 2,
   "metadata": {},
   "outputs": [
    {
     "data": {
      "text/html": [
       "<div>\n",
       "<style scoped>\n",
       "    .dataframe tbody tr th:only-of-type {\n",
       "        vertical-align: middle;\n",
       "    }\n",
       "\n",
       "    .dataframe tbody tr th {\n",
       "        vertical-align: top;\n",
       "    }\n",
       "\n",
       "    .dataframe thead th {\n",
       "        text-align: right;\n",
       "    }\n",
       "</style>\n",
       "<table border=\"1\" class=\"dataframe\">\n",
       "  <thead>\n",
       "    <tr style=\"text-align: right;\">\n",
       "      <th></th>\n",
       "      <th>BlackElo</th>\n",
       "      <th>BlackRatingDiff</th>\n",
       "      <th>Date</th>\n",
       "      <th>ECO</th>\n",
       "      <th>Result</th>\n",
       "      <th>Termination</th>\n",
       "      <th>UTCTime</th>\n",
       "      <th>WhiteElo</th>\n",
       "      <th>WhiteRatingDiff</th>\n",
       "      <th>BlackTitle</th>\n",
       "      <th>WhiteTitle</th>\n",
       "      <th>Category</th>\n",
       "      <th>Weekday</th>\n",
       "      <th>Movements</th>\n",
       "    </tr>\n",
       "  </thead>\n",
       "  <tbody>\n",
       "    <tr>\n",
       "      <th>0</th>\n",
       "      <td>906</td>\n",
       "      <td>13.0</td>\n",
       "      <td>2019.04.30</td>\n",
       "      <td>B15</td>\n",
       "      <td>0-1</td>\n",
       "      <td>Normal</td>\n",
       "      <td>22:00:24</td>\n",
       "      <td>971</td>\n",
       "      <td>-12.0</td>\n",
       "      <td>NaN</td>\n",
       "      <td>NaN</td>\n",
       "      <td>Blitz</td>\n",
       "      <td>Tuesday</td>\n",
       "      <td>73</td>\n",
       "    </tr>\n",
       "    <tr>\n",
       "      <th>1</th>\n",
       "      <td>1296</td>\n",
       "      <td>28.0</td>\n",
       "      <td>2019.04.30</td>\n",
       "      <td>C50</td>\n",
       "      <td>0-1</td>\n",
       "      <td>Normal</td>\n",
       "      <td>22:00:13</td>\n",
       "      <td>1312</td>\n",
       "      <td>-10.0</td>\n",
       "      <td>NaN</td>\n",
       "      <td>NaN</td>\n",
       "      <td>Blitz</td>\n",
       "      <td>Tuesday</td>\n",
       "      <td>67</td>\n",
       "    </tr>\n",
       "    <tr>\n",
       "      <th>2</th>\n",
       "      <td>1761</td>\n",
       "      <td>-13.0</td>\n",
       "      <td>2019.04.30</td>\n",
       "      <td>C41</td>\n",
       "      <td>1-0</td>\n",
       "      <td>Normal</td>\n",
       "      <td>22:00:41</td>\n",
       "      <td>1653</td>\n",
       "      <td>27.0</td>\n",
       "      <td>NaN</td>\n",
       "      <td>NaN</td>\n",
       "      <td>Rapid</td>\n",
       "      <td>Tuesday</td>\n",
       "      <td>71</td>\n",
       "    </tr>\n",
       "    <tr>\n",
       "      <th>3</th>\n",
       "      <td>2404</td>\n",
       "      <td>8.0</td>\n",
       "      <td>2019.04.30</td>\n",
       "      <td>B06</td>\n",
       "      <td>0-1</td>\n",
       "      <td>Normal</td>\n",
       "      <td>22:00:43</td>\n",
       "      <td>2324</td>\n",
       "      <td>-8.0</td>\n",
       "      <td>NaN</td>\n",
       "      <td>FM</td>\n",
       "      <td>Bullet</td>\n",
       "      <td>Tuesday</td>\n",
       "      <td>85</td>\n",
       "    </tr>\n",
       "    <tr>\n",
       "      <th>4</th>\n",
       "      <td>1595</td>\n",
       "      <td>-10.0</td>\n",
       "      <td>2019.04.30</td>\n",
       "      <td>B32</td>\n",
       "      <td>1-0</td>\n",
       "      <td>Normal</td>\n",
       "      <td>22:00:46</td>\n",
       "      <td>1614</td>\n",
       "      <td>29.0</td>\n",
       "      <td>NaN</td>\n",
       "      <td>NaN</td>\n",
       "      <td>Blitz</td>\n",
       "      <td>Tuesday</td>\n",
       "      <td>71</td>\n",
       "    </tr>\n",
       "    <tr>\n",
       "      <th>...</th>\n",
       "      <td>...</td>\n",
       "      <td>...</td>\n",
       "      <td>...</td>\n",
       "      <td>...</td>\n",
       "      <td>...</td>\n",
       "      <td>...</td>\n",
       "      <td>...</td>\n",
       "      <td>...</td>\n",
       "      <td>...</td>\n",
       "      <td>...</td>\n",
       "      <td>...</td>\n",
       "      <td>...</td>\n",
       "      <td>...</td>\n",
       "      <td>...</td>\n",
       "    </tr>\n",
       "    <tr>\n",
       "      <th>199995</th>\n",
       "      <td>1491</td>\n",
       "      <td>10.0</td>\n",
       "      <td>2019.05.22</td>\n",
       "      <td>B00</td>\n",
       "      <td>0-1</td>\n",
       "      <td>Normal</td>\n",
       "      <td>21:17:00</td>\n",
       "      <td>1456</td>\n",
       "      <td>-9.0</td>\n",
       "      <td>NaN</td>\n",
       "      <td>NaN</td>\n",
       "      <td>Rapid</td>\n",
       "      <td>Wednesday</td>\n",
       "      <td>30</td>\n",
       "    </tr>\n",
       "    <tr>\n",
       "      <th>199996</th>\n",
       "      <td>1549</td>\n",
       "      <td>-10.0</td>\n",
       "      <td>2019.05.22</td>\n",
       "      <td>C21</td>\n",
       "      <td>1-0</td>\n",
       "      <td>Time forfeit</td>\n",
       "      <td>21:17:09</td>\n",
       "      <td>1575</td>\n",
       "      <td>25.0</td>\n",
       "      <td>NaN</td>\n",
       "      <td>NaN</td>\n",
       "      <td>Classical</td>\n",
       "      <td>Wednesday</td>\n",
       "      <td>59</td>\n",
       "    </tr>\n",
       "    <tr>\n",
       "      <th>199997</th>\n",
       "      <td>1450</td>\n",
       "      <td>-11.0</td>\n",
       "      <td>2019.05.22</td>\n",
       "      <td>D20</td>\n",
       "      <td>1-0</td>\n",
       "      <td>Normal</td>\n",
       "      <td>21:17:09</td>\n",
       "      <td>1439</td>\n",
       "      <td>11.0</td>\n",
       "      <td>NaN</td>\n",
       "      <td>NaN</td>\n",
       "      <td>Blitz</td>\n",
       "      <td>Wednesday</td>\n",
       "      <td>42</td>\n",
       "    </tr>\n",
       "    <tr>\n",
       "      <th>199998</th>\n",
       "      <td>1588</td>\n",
       "      <td>40.0</td>\n",
       "      <td>2019.05.22</td>\n",
       "      <td>B07</td>\n",
       "      <td>0-1</td>\n",
       "      <td>Normal</td>\n",
       "      <td>21:17:13</td>\n",
       "      <td>1753</td>\n",
       "      <td>-18.0</td>\n",
       "      <td>NaN</td>\n",
       "      <td>NaN</td>\n",
       "      <td>Bullet</td>\n",
       "      <td>Wednesday</td>\n",
       "      <td>45</td>\n",
       "    </tr>\n",
       "    <tr>\n",
       "      <th>199999</th>\n",
       "      <td>1184</td>\n",
       "      <td>8.0</td>\n",
       "      <td>2019.05.22</td>\n",
       "      <td>A40</td>\n",
       "      <td>0-1</td>\n",
       "      <td>Normal</td>\n",
       "      <td>21:17:19</td>\n",
       "      <td>1097</td>\n",
       "      <td>-8.0</td>\n",
       "      <td>NaN</td>\n",
       "      <td>NaN</td>\n",
       "      <td>Blitz</td>\n",
       "      <td>Wednesday</td>\n",
       "      <td>95</td>\n",
       "    </tr>\n",
       "  </tbody>\n",
       "</table>\n",
       "<p>200000 rows × 14 columns</p>\n",
       "</div>"
      ],
      "text/plain": [
       "        BlackElo  BlackRatingDiff        Date  ECO Result   Termination  \\\n",
       "0            906             13.0  2019.04.30  B15    0-1        Normal   \n",
       "1           1296             28.0  2019.04.30  C50    0-1        Normal   \n",
       "2           1761            -13.0  2019.04.30  C41    1-0        Normal   \n",
       "3           2404              8.0  2019.04.30  B06    0-1        Normal   \n",
       "4           1595            -10.0  2019.04.30  B32    1-0        Normal   \n",
       "...          ...              ...         ...  ...    ...           ...   \n",
       "199995      1491             10.0  2019.05.22  B00    0-1        Normal   \n",
       "199996      1549            -10.0  2019.05.22  C21    1-0  Time forfeit   \n",
       "199997      1450            -11.0  2019.05.22  D20    1-0        Normal   \n",
       "199998      1588             40.0  2019.05.22  B07    0-1        Normal   \n",
       "199999      1184              8.0  2019.05.22  A40    0-1        Normal   \n",
       "\n",
       "         UTCTime  WhiteElo  WhiteRatingDiff BlackTitle WhiteTitle   Category  \\\n",
       "0       22:00:24       971            -12.0        NaN        NaN      Blitz   \n",
       "1       22:00:13      1312            -10.0        NaN        NaN      Blitz   \n",
       "2       22:00:41      1653             27.0        NaN        NaN      Rapid   \n",
       "3       22:00:43      2324             -8.0        NaN         FM     Bullet   \n",
       "4       22:00:46      1614             29.0        NaN        NaN      Blitz   \n",
       "...          ...       ...              ...        ...        ...        ...   \n",
       "199995  21:17:00      1456             -9.0        NaN        NaN      Rapid   \n",
       "199996  21:17:09      1575             25.0        NaN        NaN  Classical   \n",
       "199997  21:17:09      1439             11.0        NaN        NaN      Blitz   \n",
       "199998  21:17:13      1753            -18.0        NaN        NaN     Bullet   \n",
       "199999  21:17:19      1097             -8.0        NaN        NaN      Blitz   \n",
       "\n",
       "          Weekday  Movements  \n",
       "0         Tuesday         73  \n",
       "1         Tuesday         67  \n",
       "2         Tuesday         71  \n",
       "3         Tuesday         85  \n",
       "4         Tuesday         71  \n",
       "...           ...        ...  \n",
       "199995  Wednesday         30  \n",
       "199996  Wednesday         59  \n",
       "199997  Wednesday         42  \n",
       "199998  Wednesday         45  \n",
       "199999  Wednesday         95  \n",
       "\n",
       "[200000 rows x 14 columns]"
      ]
     },
     "execution_count": 2,
     "metadata": {},
     "output_type": "execute_result"
    }
   ],
   "source": [
    "# Loading dataset\n",
    "games_df = pd.read_csv('modified_dataset', delimiter = ',')\n",
    "games_df.drop('index', inplace = True, axis = 1)\n",
    "games_df"
   ]
  },
  {
   "cell_type": "markdown",
   "metadata": {},
   "source": [
    "## Goodness of fit test for Elo distribution\n",
    "\n",
    "$H_0$: Average Elo data is beta distributed.\n",
    "\n",
    "$H_1$: Average Elo data deviaties from a beta distribution."
   ]
  },
  {
   "cell_type": "code",
   "execution_count": 10,
   "metadata": {},
   "outputs": [
    {
     "name": "stdout",
     "output_type": "stream",
     "text": [
      "Mean value: 1511.491112879301\n",
      "Variance: 100500.99685930231\n",
      "Skewness: 0.2961900622692923\n",
      "Kurtosis: -0.259700716388126\n"
     ]
    }
   ],
   "source": [
    "from scipy import stats\n",
    "from functools import partial\n",
    "\n",
    "avg_elo = (games_df['WhiteElo'] + games_df['BlackElo'])/2 # Calculates average elo of each game\n",
    "data = avg_elo\n",
    "beta_param_bounds = [(4,5),(7,9),(600, 700),(2400,2500)] # Prepares bounds for the a, b, loc, and scale parameters of the beta fit.\n",
    "fit_result = stats.fit(stats.beta, data, beta_param_bounds) # Gives results of the fit\n",
    "a, b, loc, scale = fit_result.params \n",
    "beta_fit = stats.beta(a, b, loc, scale) # Distribution that fits the data best\n",
    "m, v , s, k = beta_fit.stats(moments = 'mvsk')\n",
    "print('Mean value: {}'.format(m))\n",
    "print('Variance: {}'.format(v))\n",
    "print('Skewness: {}'.format(s))\n",
    "print('Kurtosis: {}'.format(k))"
   ]
  },
  {
   "cell_type": "code",
   "execution_count": 11,
   "metadata": {},
   "outputs": [
    {
     "name": "stdout",
     "output_type": "stream",
     "text": [
      "Maximum function difference (KS test statistic): 0.019367828875923865\n",
      "p value: 1.3375015510140013e-65\n",
      "The null hypothesis is rejected.\n"
     ]
    }
   ],
   "source": [
    "# Kolmogorov - Smirnov test\n",
    "D, p_value = stats.kstest(data, partial(stats.beta.cdf, a = a, b = b, loc = loc, scale = scale))\n",
    "print('Maximum function difference (KS test statistic): {}'.format(D))\n",
    "print('p value: {}'.format(p_value))\n",
    "alpha = 0.05\n",
    "if p_value < alpha:\n",
    "    print('The null hypothesis is rejected.')\n",
    "else:\n",
    "    print('The null hypothesis is not rejected.')"
   ]
  },
  {
   "cell_type": "code",
   "execution_count": 12,
   "metadata": {},
   "outputs": [
    {
     "data": {
      "image/png": "[encoded data removed]",
      "text/plain": [
       "<Figure size 864x216 with 2 Axes>"
      ]
     },
     "metadata": {
      "needs_background": "light"
     },
     "output_type": "display_data"
    }
   ],
   "source": [
    "fig, axes = plt.subplots(1, 2, figsize = (12, 3)) # Definition of graphing instances\n",
    "\n",
    "x = np.linspace(0, 3000, 10000) # Graphing range\n",
    "\n",
    "pdf = beta_fit.pdf(x) # Probability density function\n",
    "cdf = beta_fit.cdf(x) # Cumulative distribution function\n",
    "\n",
    "axes[0].plot(x, pdf, color = 'r', label = 'Fit') # Graphs PDF\n",
    "sns.histplot(data, ax = axes[0], stat = 'density',binwidth = 50, label = 'Data') # Graphs histogram of data\n",
    "\n",
    "N = 2e5 # Number of games\n",
    "sorted_data = np.sort(data) # Ordered data\n",
    "edf = np.arange(N) / float(N) # 'Experimental' cumulative distribution function\n",
    "\n",
    "axes[1].plot(x, cdf, color = 'r', label = 'CDF') # Graphs CDF\n",
    "axes[1].plot(sorted_data, edf, label = 'EDF') # Graphs EDF\n",
    "\n",
    "for ax in axes.flat:\n",
    "    ax.set(xlabel = 'Average Elo')\n",
    "\n",
    "axes[1].set(ylabel = 'Cumulative probability')\n",
    "plt.legend()\n",
    "fig.savefig('graphs/kstest-avg_elo', dpi = 700, format = 'pdf', bbox_inches = 'tight')"
   ]
  },
  {
   "cell_type": "code",
   "execution_count": 13,
   "metadata": {},
   "outputs": [
    {
     "data": {
      "image/png": "[encoded data removed]",
      "text/plain": [
       "<Figure size 432x288 with 1 Axes>"
      ]
     },
     "metadata": {
      "needs_background": "light"
     },
     "output_type": "display_data"
    }
   ],
   "source": [
    "# q-q graph\n",
    "qq_fig = plt.figure()\n",
    "ax = qq_fig.add_subplot(111)\n",
    "stats.probplot(data, dist=beta_fit, plot=ax)\n",
    "ax.set_xlabel('Average Elo')\n",
    "ax.set_title('QQ - Beta Distribution and Data')\n",
    "qq_fig.savefig('graphs/qq_avg_elo', dpi = 700, format = 'pdf', bbox_inches = 'tight')"
   ]
  },
  {
   "cell_type": "markdown",
   "metadata": {},
   "source": [
    "## ANOVA test: Win rate and opening\n",
    "\n",
    "Each game is grouped in one of five categories according to the first letter of ECO.\n",
    "\n",
    "$H_0$: The mean win rate for each of the groups is the same.\n",
    "\n",
    "$H_1$: At least one group has a different mean win rate."
   ]
  },
  {
   "cell_type": "code",
   "execution_count": null,
   "metadata": {},
   "outputs": [],
   "source": []
  },
  {
   "cell_type": "markdown",
   "metadata": {},
   "source": [
    "## ANOVA test: Win rate and time of the day\n",
    "\n",
    "Each game is grouped in one of ??? groups according to UTCTime.\n",
    "\n",
    "$H_0$: The mean win rate is the same at any time of the day.\n",
    "\n",
    "$H_1$: The mean win rate is higher for a certain time of the day."
   ]
  },
  {
   "cell_type": "code",
   "execution_count": null,
   "metadata": {},
   "outputs": [],
   "source": []
  },
  {
   "cell_type": "markdown",
   "metadata": {},
   "source": [
    "## ANOVA test: Win rate and Elo range\n",
    "\n",
    "Each game is classified in one of 4 tiers of elo according to the mean elo between black and white: low elo, mid elo, high elo, very high elo.\n",
    "\n",
    "$H_0$: The mean win rate is the same for each elo tier.\n",
    "$H_1$: The mean win rate of at least one tier is different."
   ]
  },
  {
   "cell_type": "code",
   "execution_count": null,
   "metadata": {},
   "outputs": [],
   "source": [
    "games_df['EloTier'] = ['Very high elo' if elo >= 2000 else 'High elo' if elo >= 1800 else \\\n",
    "    'Mid elo' if elo >= 1400 else 'Low elo' for elo in avg_elo]\n",
    "games_df"
   ]
  },
  {
   "cell_type": "markdown",
   "metadata": {},
   "source": [
    "## Is there correlation between Termination and RatingDiff?"
   ]
  },
  {
   "cell_type": "code",
   "execution_count": null,
   "metadata": {},
   "outputs": [],
   "source": []
  },
  {
   "cell_type": "markdown",
   "metadata": {},
   "source": [
    "## Is there correlation between Result and RatingDiff?"
   ]
  },
  {
   "cell_type": "code",
   "execution_count": null,
   "metadata": {},
   "outputs": [],
   "source": []
  }
 ],
 "metadata": {
  "kernelspec": {
   "display_name": "Python 3.10.4 64-bit",
   "language": "python",
   "name": "python3"
  },
  "language_info": {
   "codemirror_mode": {
    "name": "ipython",
    "version": 3
   },
   "file_extension": ".py",
   "mimetype": "text/x-python",
   "name": "python",
   "nbconvert_exporter": "python",
   "pygments_lexer": "ipython3",
   "version": "3.10.4"
  },
  "orig_nbformat": 4,
  "vscode": {
   "interpreter": {
    "hash": "916dbcbb3f70747c44a77c7bcd40155683ae19c65e1c03b4aa3499c5328201f1"
   }
  }
 },
 "nbformat": 4,
 "nbformat_minor": 2
}
